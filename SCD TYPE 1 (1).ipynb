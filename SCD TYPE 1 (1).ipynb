{
 "cells": [
  {
   "cell_type": "code",
   "execution_count": 0,
   "metadata": {
    "application/vnd.databricks.v1+cell": {
     "cellMetadata": {
      "byteLimit": 2048000,
      "rowLimit": 10000
     },
     "inputWidgets": {},
     "nuid": "699c13dc-6314-4346-a049-bf87cfac7368",
     "showTitle": false,
     "title": ""
    }
   },
   "outputs": [],
   "source": [
    "#load history data\n",
    "\n",
    "from pyspark.sql.functions import lit,now,to_date,xxhash64\n",
    "\n",
    "customer= spark.read.parquet(\"dbfs:/mnt/ecom1/customer/customers.parquet\")  \n",
    "spark.sql(\"create database if not exists customer_master;\")\n",
    "customer.write.mode(\"overwrite\").saveAsTable(\"customer_master.customers\")"
   ]
  },
  {
   "cell_type": "code",
   "execution_count": 0,
   "metadata": {
    "application/vnd.databricks.v1+cell": {
     "cellMetadata": {
      "byteLimit": 2048000,
      "implicitDf": true,
      "rowLimit": 10000
     },
     "inputWidgets": {},
     "nuid": "135c7b7c-a8ec-46ad-be70-ffe22c76f7b8",
     "showTitle": false,
     "title": ""
    }
   },
   "outputs": [
    {
     "output_type": "display_data",
     "data": {
      "text/html": [
       "<style scoped>\n",
       "  .table-result-container {\n",
       "    max-height: 300px;\n",
       "    overflow: auto;\n",
       "  }\n",
       "  table, th, td {\n",
       "    border: 1px solid black;\n",
       "    border-collapse: collapse;\n",
       "  }\n",
       "  th, td {\n",
       "    padding: 5px;\n",
       "  }\n",
       "  th {\n",
       "    text-align: left;\n",
       "  }\n",
       "</style><div class='table-result-container'><table class='table-result'><thead style='background-color: white'><tr><th>col_name</th><th>data_type</th><th>comment</th></tr></thead><tbody><tr><td>id</td><td>bigint</td><td>null</td></tr><tr><td>customer_id</td><td>string</td><td>null</td></tr><tr><td>customer_city</td><td>string</td><td>null</td></tr><tr><td>customer_state</td><td>string</td><td>null</td></tr><tr><td>customer_zip_code_prefix</td><td>string</td><td>null</td></tr><tr><td></td><td></td><td></td></tr><tr><td># Delta Statistics Columns</td><td></td><td></td></tr><tr><td>Column Names</td><td>customer_id, customer_state, customer_zip_code_prefix, id, customer_city</td><td></td></tr><tr><td>Column Selection Method</td><td>first-32</td><td></td></tr><tr><td></td><td></td><td></td></tr><tr><td># Detailed Table Information</td><td></td><td></td></tr><tr><td>Catalog</td><td>spark_catalog</td><td></td></tr><tr><td>Database</td><td>customer_master</td><td></td></tr><tr><td>Table</td><td>customers</td><td></td></tr><tr><td>Created Time</td><td>Fri Mar 22 08:44:25 UTC 2024</td><td></td></tr><tr><td>Last Access</td><td>UNKNOWN</td><td></td></tr><tr><td>Created By</td><td>Spark 3.4.1</td><td></td></tr><tr><td>Type</td><td>MANAGED</td><td></td></tr><tr><td>Location</td><td>dbfs:/user/hive/warehouse/customer_master.db/customers</td><td></td></tr><tr><td>Provider</td><td>delta</td><td></td></tr><tr><td>Owner</td><td>root</td><td></td></tr><tr><td>Is_managed_location</td><td>true</td><td></td></tr><tr><td>Table Properties</td><td>[delta.minReaderVersion=1,delta.minWriterVersion=2]</td><td></td></tr></tbody></table></div>"
      ]
     },
     "metadata": {
      "application/vnd.databricks.v1+output": {
       "addedWidgets": {},
       "aggData": [],
       "aggError": "",
       "aggOverflow": false,
       "aggSchema": [],
       "aggSeriesLimitReached": false,
       "aggType": "",
       "arguments": {},
       "columnCustomDisplayInfos": {},
       "data": [
        [
         "id",
         "bigint",
         null
        ],
        [
         "customer_id",
         "string",
         null
        ],
        [
         "customer_city",
         "string",
         null
        ],
        [
         "customer_state",
         "string",
         null
        ],
        [
         "customer_zip_code_prefix",
         "string",
         null
        ],
        [
         "",
         "",
         ""
        ],
        [
         "# Delta Statistics Columns",
         "",
         ""
        ],
        [
         "Column Names",
         "customer_id, customer_state, customer_zip_code_prefix, id, customer_city",
         ""
        ],
        [
         "Column Selection Method",
         "first-32",
         ""
        ],
        [
         "",
         "",
         ""
        ],
        [
         "# Detailed Table Information",
         "",
         ""
        ],
        [
         "Catalog",
         "spark_catalog",
         ""
        ],
        [
         "Database",
         "customer_master",
         ""
        ],
        [
         "Table",
         "customers",
         ""
        ],
        [
         "Created Time",
         "Fri Mar 22 08:44:25 UTC 2024",
         ""
        ],
        [
         "Last Access",
         "UNKNOWN",
         ""
        ],
        [
         "Created By",
         "Spark 3.4.1",
         ""
        ],
        [
         "Type",
         "MANAGED",
         ""
        ],
        [
         "Location",
         "dbfs:/user/hive/warehouse/customer_master.db/customers",
         ""
        ],
        [
         "Provider",
         "delta",
         ""
        ],
        [
         "Owner",
         "root",
         ""
        ],
        [
         "Is_managed_location",
         "true",
         ""
        ],
        [
         "Table Properties",
         "[delta.minReaderVersion=1,delta.minWriterVersion=2]",
         ""
        ]
       ],
       "datasetInfos": [],
       "dbfsResultPath": null,
       "isJsonSchema": true,
       "metadata": {
        "dataframeName": "_sqldf",
        "executionCount": 1
       },
       "overflow": false,
       "plotOptions": {
        "customPlotOptions": {},
        "displayType": "table",
        "pivotAggregation": null,
        "pivotColumns": null,
        "xColumns": null,
        "yColumns": null
       },
       "removedWidgets": [],
       "schema": [
        {
         "metadata": "{\"comment\":\"name of the column\"}",
         "name": "col_name",
         "type": "\"string\""
        },
        {
         "metadata": "{\"comment\":\"data type of the column\"}",
         "name": "data_type",
         "type": "\"string\""
        },
        {
         "metadata": "{\"comment\":\"comment of the column\"}",
         "name": "comment",
         "type": "\"string\""
        }
       ],
       "type": "table"
      }
     },
     "output_type": "display_data"
    }
   ],
   "source": [
    "%sql\n",
    "describe extended customer_master.customers\n"
   ]
  },
  {
   "cell_type": "code",
   "execution_count": 0,
   "metadata": {
    "application/vnd.databricks.v1+cell": {
     "cellMetadata": {
      "byteLimit": 2048000,
      "implicitDf": true,
      "rowLimit": 10000
     },
     "inputWidgets": {},
     "nuid": "18e44b1a-34f6-402c-a1b2-a06437413690",
     "showTitle": false,
     "title": ""
    }
   },
   "outputs": [
    {
     "output_type": "display_data",
     "data": {
      "text/html": [
       "<style scoped>\n",
       "  .table-result-container {\n",
       "    max-height: 300px;\n",
       "    overflow: auto;\n",
       "  }\n",
       "  table, th, td {\n",
       "    border: 1px solid black;\n",
       "    border-collapse: collapse;\n",
       "  }\n",
       "  th, td {\n",
       "    padding: 5px;\n",
       "  }\n",
       "  th {\n",
       "    text-align: left;\n",
       "  }\n",
       "</style><div class='table-result-container'><table class='table-result'><thead style='background-color: white'><tr><th>id</th><th>customer_id</th><th>customer_city</th><th>customer_state</th><th>customer_zip_code_prefix</th></tr></thead><tbody><tr><td>2</td><td>290c77bc529b7ac935b93aa66c333dc3</td><td>sao bernardo do campo</td><td>SP</td><td>9790</td></tr><tr><td>1</td><td>861eff4711a542e4b93843c6dd7febb0</td><td>franca</td><td>SP</td><td>14409</td></tr></tbody></table></div>"
      ]
     },
     "metadata": {
      "application/vnd.databricks.v1+output": {
       "addedWidgets": {},
       "aggData": [],
       "aggError": "",
       "aggOverflow": false,
       "aggSchema": [],
       "aggSeriesLimitReached": false,
       "aggType": "",
       "arguments": {},
       "columnCustomDisplayInfos": {},
       "data": [
        [
         2,
         "290c77bc529b7ac935b93aa66c333dc3",
         "sao bernardo do campo",
         "SP",
         "9790"
        ],
        [
         1,
         "861eff4711a542e4b93843c6dd7febb0",
         "franca",
         "SP",
         "14409"
        ]
       ],
       "datasetInfos": [],
       "dbfsResultPath": null,
       "isJsonSchema": true,
       "metadata": {
        "dataframeName": "_sqldf",
        "executionCount": 2
       },
       "overflow": false,
       "plotOptions": {
        "customPlotOptions": {},
        "displayType": "table",
        "pivotAggregation": null,
        "pivotColumns": null,
        "xColumns": null,
        "yColumns": null
       },
       "removedWidgets": [],
       "schema": [
        {
         "metadata": "{}",
         "name": "id",
         "type": "\"long\""
        },
        {
         "metadata": "{}",
         "name": "customer_id",
         "type": "\"string\""
        },
        {
         "metadata": "{}",
         "name": "customer_city",
         "type": "\"string\""
        },
        {
         "metadata": "{}",
         "name": "customer_state",
         "type": "\"string\""
        },
        {
         "metadata": "{}",
         "name": "customer_zip_code_prefix",
         "type": "\"string\""
        }
       ],
       "type": "table"
      }
     },
     "output_type": "display_data"
    }
   ],
   "source": [
    "%sql\n",
    "select * from customer_master.customers \n",
    " where customer_id in('861eff4711a542e4b93843c6dd7febb0','290c77bc529b7ac935b93aa66c333dc3','9999999999999999999999999990')\n",
    "order by customer_id\n",
    "\n"
   ]
  },
  {
   "cell_type": "code",
   "execution_count": 0,
   "metadata": {
    "application/vnd.databricks.v1+cell": {
     "cellMetadata": {
      "byteLimit": 2048000,
      "rowLimit": 10000
     },
     "inputWidgets": {},
     "nuid": "0adae346-4e50-4f19-b737-1ce755208729",
     "showTitle": false,
     "title": ""
    }
   },
   "outputs": [
    {
     "output_type": "display_data",
     "data": {
      "text/html": [
       "<style scoped>\n",
       "  .table-result-container {\n",
       "    max-height: 300px;\n",
       "    overflow: auto;\n",
       "  }\n",
       "  table, th, td {\n",
       "    border: 1px solid black;\n",
       "    border-collapse: collapse;\n",
       "  }\n",
       "  th, td {\n",
       "    padding: 5px;\n",
       "  }\n",
       "  th {\n",
       "    text-align: left;\n",
       "  }\n",
       "</style><div class='table-result-container'><table class='table-result'><thead style='background-color: white'><tr><th>customer_id</th><th>customer_zip_code_prefix</th><th>customer_city</th><th>customer_state</th></tr></thead><tbody><tr><td>861eff4711a542e4b93843c6dd7febb0</td><td>15000</td><td>franca</td><td>SP</td></tr><tr><td>290c77bc529b7ac935b93aa66c333dc3</td><td>9790</td><td>sao paulo</td><td>SP</td></tr><tr><td>9999999999999999999999999990</td><td>81560</td><td>timoteo</td><td>MG</td></tr></tbody></table></div>"
      ]
     },
     "metadata": {
      "application/vnd.databricks.v1+output": {
       "addedWidgets": {},
       "aggData": [],
       "aggError": "",
       "aggOverflow": false,
       "aggSchema": [],
       "aggSeriesLimitReached": false,
       "aggType": "",
       "arguments": {},
       "columnCustomDisplayInfos": {},
       "data": [
        [
         "861eff4711a542e4b93843c6dd7febb0",
         "15000",
         "franca",
         "SP"
        ],
        [
         "290c77bc529b7ac935b93aa66c333dc3",
         "9790",
         "sao paulo",
         "SP"
        ],
        [
         "9999999999999999999999999990",
         "81560",
         "timoteo",
         "MG"
        ]
       ],
       "datasetInfos": [],
       "dbfsResultPath": null,
       "isJsonSchema": true,
       "metadata": {},
       "overflow": false,
       "plotOptions": {
        "customPlotOptions": {},
        "displayType": "table",
        "pivotAggregation": null,
        "pivotColumns": null,
        "xColumns": null,
        "yColumns": null
       },
       "removedWidgets": [],
       "schema": [
        {
         "metadata": "{}",
         "name": "customer_id",
         "type": "\"string\""
        },
        {
         "metadata": "{}",
         "name": "customer_zip_code_prefix",
         "type": "\"string\""
        },
        {
         "metadata": "{}",
         "name": "customer_city",
         "type": "\"string\""
        },
        {
         "metadata": "{}",
         "name": "customer_state",
         "type": "\"string\""
        }
       ],
       "type": "table"
      }
     },
     "output_type": "display_data"
    }
   ],
   "source": [
    "\n",
    "\n",
    "#scd type 1\n",
    "\n",
    "from pyspark.sql.functions import coalesce  \n",
    "customer_d= spark.read.parquet(\"dbfs:/mnt/ecom1/customer/customer_delta.parquet\")\n",
    "\n",
    "\n",
    "customer_d.display()"
   ]
  },
  {
   "cell_type": "code",
   "execution_count": 0,
   "metadata": {
    "application/vnd.databricks.v1+cell": {
     "cellMetadata": {
      "byteLimit": 2048000,
      "rowLimit": 10000
     },
     "inputWidgets": {},
     "nuid": "cb1d6afb-49ae-4b6b-8b90-7e7267b6f7b1",
     "showTitle": false,
     "title": ""
    }
   },
   "outputs": [],
   "source": [
    "update_ds=customer.join(customer_d,\"customer_id\",\"full_outer\")\\\n",
    "    .select(coalesce(customer.customer_id,customer_d.customer_id).alias(\"customer_id\"),\n",
    "            coalesce(customer_d.customer_zip_code_prefix,customer.customer_zip_code_prefix).alias(\"customer_zip_code_prefix\"),\n",
    "            coalesce(customer_d.customer_city,customer.customer_city).alias(\"customer_city\"),\n",
    "            coalesce(customer_d.customer_state,customer.customer_state).alias(\"customer_state\"),\n",
    "            )\n",
    "    \n",
    "\n",
    "update_ds.write.mode(\"overwrite\").saveAsTable(\"customer_master.customers\")\n"
   ]
  },
  {
   "cell_type": "code",
   "execution_count": 0,
   "metadata": {
    "application/vnd.databricks.v1+cell": {
     "cellMetadata": {
      "byteLimit": 2048000,
      "implicitDf": true,
      "rowLimit": 10000
     },
     "inputWidgets": {},
     "nuid": "1307d7e3-afde-4dc2-a672-0fa7c8e629a2",
     "showTitle": false,
     "title": ""
    }
   },
   "outputs": [
    {
     "output_type": "display_data",
     "data": {
      "text/html": [
       "<style scoped>\n",
       "  .table-result-container {\n",
       "    max-height: 300px;\n",
       "    overflow: auto;\n",
       "  }\n",
       "  table, th, td {\n",
       "    border: 1px solid black;\n",
       "    border-collapse: collapse;\n",
       "  }\n",
       "  th, td {\n",
       "    padding: 5px;\n",
       "  }\n",
       "  th {\n",
       "    text-align: left;\n",
       "  }\n",
       "</style><div class='table-result-container'><table class='table-result'><thead style='background-color: white'><tr><th>id</th><th>customer_id</th><th>customer_city</th><th>customer_state</th><th>customer_zip_code_prefix</th></tr></thead><tbody><tr><td>null</td><td>861eff4711a542e4b93843c6dd7febb0</td><td>franca</td><td>SP</td><td>15000</td></tr><tr><td>null</td><td>290c77bc529b7ac935b93aa66c333dc3</td><td>sao paulo</td><td>SP</td><td>9790</td></tr><tr><td>null</td><td>9999999999999999999999999990</td><td>timoteo</td><td>MG</td><td>81560</td></tr></tbody></table></div>"
      ]
     },
     "metadata": {
      "application/vnd.databricks.v1+output": {
       "addedWidgets": {},
       "aggData": [],
       "aggError": "",
       "aggOverflow": false,
       "aggSchema": [],
       "aggSeriesLimitReached": false,
       "aggType": "",
       "arguments": {},
       "columnCustomDisplayInfos": {},
       "data": [
        [
         null,
         "861eff4711a542e4b93843c6dd7febb0",
         "franca",
         "SP",
         "15000"
        ],
        [
         null,
         "290c77bc529b7ac935b93aa66c333dc3",
         "sao paulo",
         "SP",
         "9790"
        ],
        [
         null,
         "9999999999999999999999999990",
         "timoteo",
         "MG",
         "81560"
        ]
       ],
       "datasetInfos": [],
       "dbfsResultPath": null,
       "isJsonSchema": true,
       "metadata": {
        "dataframeName": "_sqldf",
        "executionCount": 13
       },
       "overflow": false,
       "plotOptions": {
        "customPlotOptions": {},
        "displayType": "table",
        "pivotAggregation": null,
        "pivotColumns": null,
        "xColumns": null,
        "yColumns": null
       },
       "removedWidgets": [],
       "schema": [
        {
         "metadata": "{}",
         "name": "id",
         "type": "\"long\""
        },
        {
         "metadata": "{}",
         "name": "customer_id",
         "type": "\"string\""
        },
        {
         "metadata": "{}",
         "name": "customer_city",
         "type": "\"string\""
        },
        {
         "metadata": "{}",
         "name": "customer_state",
         "type": "\"string\""
        },
        {
         "metadata": "{}",
         "name": "customer_zip_code_prefix",
         "type": "\"string\""
        }
       ],
       "type": "table"
      }
     },
     "output_type": "display_data"
    }
   ],
   "source": [
    "%sql\n",
    "select * from customer_master.customers where customer_id in('861eff4711a542e4b93843c6dd7febb0','290c77bc529b7ac935b93aa66c333dc3','9999999999999999999999999990')\n"
   ]
  },
  {
   "cell_type": "code",
   "execution_count": 0,
   "metadata": {
    "application/vnd.databricks.v1+cell": {
     "cellMetadata": {
      "byteLimit": 2048000,
      "rowLimit": 10000
     },
     "inputWidgets": {},
     "nuid": "b74e7b63-f870-46f1-8d8b-a33f9bf2f5a3",
     "showTitle": false,
     "title": ""
    }
   },
   "outputs": [],
   "source": [
    "\n",
    "#SCD 1 with merge\n",
    "from delta.tables import *\n",
    "cust_tbl_inst = DeltaTable.forPath(spark, 'dbfs:/user/hive/warehouse/customer_master.db/customers')\n",
    "customer_d= spark.read.parquet(\"dbfs:/mnt/ecom1/customer/customer_delta.parquet\")\n",
    "\n",
    "cust_tbl_inst.alias(\"trg\").merge(customer_d.alias(\"src\"),condition=\"trg.customer_id=src.customer_id\"\n",
    "\n",
    "                       ).whenMatchedUpdate(set ={\n",
    "                         \n",
    "\"customer_zip_code_prefix\": \"src.customer_zip_code_prefix\",\n",
    "\"customer_city\": \"src.customer_city\",\n",
    "\"customer_state\": \"src.customer_state\"\n",
    "\n",
    "                       }\n",
    "\n",
    "                        ).whenNotMatchedInsert(values={\n",
    "\"customer_id\": \"customer_id\",\n",
    "\"customer_zip_code_prefix\": \"customer_zip_code_prefix\",\n",
    "\"customer_city\": \"customer_city\",\n",
    "\"customer_state\": \"customer_state\"}).execute()\n"
   ]
  }
 ],
 "metadata": {
  "application/vnd.databricks.v1+notebook": {
   "dashboards": [],
   "language": "python",
   "notebookMetadata": {
    "mostRecentlyExecutedCommandWithImplicitDF": {
     "commandId": 1511509722890527,
     "dataframes": [
      "_sqldf"
     ]
    },
    "pythonIndentUnit": 4
   },
   "notebookName": "SCD TYPE 1",
   "widgets": {}
  }
 },
 "nbformat": 4,
 "nbformat_minor": 0
}
