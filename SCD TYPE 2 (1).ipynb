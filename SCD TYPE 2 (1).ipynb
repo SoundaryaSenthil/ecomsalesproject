{
 "cells": [
  {
   "cell_type": "code",
   "execution_count": 0,
   "metadata": {
    "application/vnd.databricks.v1+cell": {
     "cellMetadata": {
      "byteLimit": 2048000,
      "rowLimit": 10000
     },
     "inputWidgets": {},
     "nuid": "91fb5447-2dea-4db2-aa35-9ecd6a3af409",
     "showTitle": false,
     "title": ""
    }
   },
   "outputs": [
    {
     "output_type": "display_data",
     "data": {
      "text/html": [
       "<style scoped>\n",
       "  .table-result-container {\n",
       "    max-height: 300px;\n",
       "    overflow: auto;\n",
       "  }\n",
       "  table, th, td {\n",
       "    border: 1px solid black;\n",
       "    border-collapse: collapse;\n",
       "  }\n",
       "  th, td {\n",
       "    padding: 5px;\n",
       "  }\n",
       "  th {\n",
       "    text-align: left;\n",
       "  }\n",
       "</style><div class='table-result-container'><table class='table-result'><thead style='background-color: white'><tr><th>path</th><th>name</th><th>size</th><th>modificationTime</th></tr></thead><tbody><tr><td>dbfs:/mnt/ecom1/customer/customer_delta.parquet</td><td>customer_delta.parquet</td><td>1479</td><td>1711104583000</td></tr><tr><td>dbfs:/mnt/ecom1/customer/customers.parquet</td><td>customers.parquet</td><td>6805</td><td>1711145418000</td></tr></tbody></table></div>"
      ]
     },
     "metadata": {
      "application/vnd.databricks.v1+output": {
       "addedWidgets": {},
       "aggData": [],
       "aggError": "",
       "aggOverflow": false,
       "aggSchema": [],
       "aggSeriesLimitReached": false,
       "aggType": "",
       "arguments": {},
       "columnCustomDisplayInfos": {},
       "data": [
        [
         "dbfs:/mnt/ecom1/customer/customer_delta.parquet",
         "customer_delta.parquet",
         1479,
         1711104583000
        ],
        [
         "dbfs:/mnt/ecom1/customer/customers.parquet",
         "customers.parquet",
         6805,
         1711145418000
        ]
       ],
       "datasetInfos": [],
       "dbfsResultPath": null,
       "isJsonSchema": true,
       "metadata": {
        "isDbfsCommandResult": false
       },
       "overflow": false,
       "plotOptions": {
        "customPlotOptions": {},
        "displayType": "table",
        "pivotAggregation": null,
        "pivotColumns": null,
        "xColumns": null,
        "yColumns": null
       },
       "removedWidgets": [],
       "schema": [
        {
         "metadata": "{}",
         "name": "path",
         "type": "\"string\""
        },
        {
         "metadata": "{}",
         "name": "name",
         "type": "\"string\""
        },
        {
         "metadata": "{}",
         "name": "size",
         "type": "\"long\""
        },
        {
         "metadata": "{}",
         "name": "modificationTime",
         "type": "\"long\""
        }
       ],
       "type": "table"
      }
     },
     "output_type": "display_data"
    }
   ],
   "source": [
    "%fs ls /mnt/ecom1/customer/"
   ]
  },
  {
   "cell_type": "code",
   "execution_count": 0,
   "metadata": {
    "application/vnd.databricks.v1+cell": {
     "cellMetadata": {
      "byteLimit": 2048000,
      "rowLimit": 10000
     },
     "inputWidgets": {},
     "nuid": "27f30575-cc33-45b1-918a-c1df3560f87f",
     "showTitle": false,
     "title": ""
    }
   },
   "outputs": [
    {
     "output_type": "display_data",
     "data": {
      "text/html": [
       "<style scoped>\n",
       "  .table-result-container {\n",
       "    max-height: 300px;\n",
       "    overflow: auto;\n",
       "  }\n",
       "  table, th, td {\n",
       "    border: 1px solid black;\n",
       "    border-collapse: collapse;\n",
       "  }\n",
       "  th, td {\n",
       "    padding: 5px;\n",
       "  }\n",
       "  th {\n",
       "    text-align: left;\n",
       "  }\n",
       "</style><div class='table-result-container'><table class='table-result'><thead style='background-color: white'><tr><th>id</th><th>customer_id</th><th>customer_city</th><th>customer_state</th><th>customer_zip_code_prefix</th><th>Active_Flag</th><th>From_Date</th><th>To_Date</th></tr></thead><tbody><tr><td>1</td><td>861eff4711a542e4b93843c6dd7febb0</td><td>franca</td><td>SP</td><td>14409</td><td>Y</td><td>2024-03-23</td><td>9999-12-31</td></tr><tr><td>2</td><td>290c77bc529b7ac935b93aa66c333dc3</td><td>sao bernardo do campo</td><td>SP</td><td>9790</td><td>Y</td><td>2024-03-23</td><td>9999-12-31</td></tr><tr><td>3</td><td>060e732b5b29e8181a18229c7b0b2b5e</td><td>sao paulo</td><td>SP</td><td>1151</td><td>Y</td><td>2024-03-23</td><td>9999-12-31</td></tr><tr><td>4</td><td>259dac757896d24d7702b9acbbff3f3c</td><td>mogi das cruzes</td><td>SP</td><td>8775</td><td>Y</td><td>2024-03-23</td><td>9999-12-31</td></tr><tr><td>5</td><td>345ecd01c38d18a9036ed96c73b8d066</td><td>campinas</td><td>SP</td><td>13056</td><td>Y</td><td>2024-03-23</td><td>9999-12-31</td></tr><tr><td>6</td><td>4c93744516667ad3b8f1fb645a3116a4</td><td>jaragua do sul</td><td>SC</td><td>89254</td><td>Y</td><td>2024-03-23</td><td>9999-12-31</td></tr><tr><td>7</td><td>addec96d2e059c80c30fe6871d30d177</td><td>sao paulo</td><td>SP</td><td>4534</td><td>Y</td><td>2024-03-23</td><td>9999-12-31</td></tr><tr><td>8</td><td>57b2a98a409812fe9618067b6b8ebe4f</td><td>timoteo</td><td>MG</td><td>35182</td><td>Y</td><td>2024-03-23</td><td>9999-12-31</td></tr><tr><td>9</td><td>1175e95fb47ddff9de6b2b06188f7e0d</td><td>curitiba</td><td>PR</td><td>81560</td><td>Y</td><td>2024-03-23</td><td>9999-12-31</td></tr><tr><td>10</td><td>9afe194fb833f79e300e37e580171f22</td><td>belo horizonte</td><td>MG</td><td>30575</td><td>Y</td><td>2024-03-23</td><td>9999-12-31</td></tr><tr><td>11</td><td>2a7745e1ed516b289ed9b29c7d0539a5</td><td>montes claros</td><td>MG</td><td>39400</td><td>Y</td><td>2024-03-23</td><td>9999-12-31</td></tr><tr><td>12</td><td>2a46fb94aef5cbeeb850418118cee090</td><td>rio de janeiro</td><td>RJ</td><td>20231</td><td>Y</td><td>2024-03-23</td><td>9999-12-31</td></tr><tr><td>13</td><td>918dc87cd72cd9f6ed4bd442ed785235</td><td>lencois paulista</td><td>SP</td><td>18682</td><td>Y</td><td>2024-03-23</td><td>9999-12-31</td></tr><tr><td>14</td><td>295c05e81917928d76245e842748184d</td><td>sao paulo</td><td>SP</td><td>5704</td><td>Y</td><td>2024-03-23</td><td>9999-12-31</td></tr><tr><td>15</td><td>3151a81801c8386361b62277d7fa5ecf</td><td>caxias do sul</td><td>RS</td><td>95110</td><td>Y</td><td>2024-03-23</td><td>9999-12-31</td></tr><tr><td>16</td><td>21f748a16f4e1688a9014eb3ee6fa325</td><td>piracicaba</td><td>SP</td><td>13412</td><td>Y</td><td>2024-03-23</td><td>9999-12-31</td></tr><tr><td>17</td><td>5c2991dbd08bbf3cf410713c4de5a0b5</td><td>rio de janeiro</td><td>RJ</td><td>22750</td><td>Y</td><td>2024-03-23</td><td>9999-12-31</td></tr><tr><td>18</td><td>b6e99561fe6f34a55b0b7da92f8ed775</td><td>guarulhos</td><td>SP</td><td>7124</td><td>Y</td><td>2024-03-23</td><td>9999-12-31</td></tr><tr><td>19</td><td>7f3a72e8f988c6e735ba118d54f47458</td><td>sao paulo</td><td>SP</td><td>5416</td><td>Y</td><td>2024-03-23</td><td>9999-12-31</td></tr><tr><td>20</td><td>3e6fd6b2f0d499456a6a6820a40f2d79</td><td>pacaja</td><td>PA</td><td>68485</td><td>Y</td><td>2024-03-23</td><td>9999-12-31</td></tr><tr><td>21</td><td>e607ede0e63436308660236f5a52da5e</td><td>florianopolis</td><td>SC</td><td>88034</td><td>Y</td><td>2024-03-23</td><td>9999-12-31</td></tr><tr><td>22</td><td>a96d5cfa0d3181817e2b946f921ea021</td><td>aparecida de goiania</td><td>GO</td><td>74914</td><td>Y</td><td>2024-03-23</td><td>9999-12-31</td></tr><tr><td>23</td><td>482441ea6a06b1f72fe9784756c0ea75</td><td>sao paulo</td><td>SP</td><td>5713</td><td>Y</td><td>2024-03-23</td><td>9999-12-31</td></tr><tr><td>24</td><td>4390ddbb6276a66ff1736a6710205dca</td><td>curitiba</td><td>PR</td><td>82820</td><td>Y</td><td>2024-03-23</td><td>9999-12-31</td></tr><tr><td>25</td><td>a5844ba4bfc8d0cc61d13027c7e63bcc</td><td>sao paulo</td><td>SP</td><td>8225</td><td>Y</td><td>2024-03-23</td><td>9999-12-31</td></tr><tr><td>26</td><td>5f102dd37243f152aec3607970aad100</td><td>santo andre</td><td>SP</td><td>9121</td><td>Y</td><td>2024-03-23</td><td>9999-12-31</td></tr><tr><td>27</td><td>9c0096673baf55453a50073f12d1a37f</td><td>goiania</td><td>GO</td><td>74310</td><td>Y</td><td>2024-03-23</td><td>9999-12-31</td></tr><tr><td>28</td><td>2e6a42a9b5cbb0da62988694f18ee295</td><td>sao paulo</td><td>SP</td><td>4571</td><td>Y</td><td>2024-03-23</td><td>9999-12-31</td></tr><tr><td>29</td><td>4d221875624017bc47b4d1ce7314a5b7</td><td>cachoeiro de itapemirim</td><td>ES</td><td>29311</td><td>Y</td><td>2024-03-23</td><td>9999-12-31</td></tr><tr><td>30</td><td>a8654e2af5da6bb72f52c22b164855e1</td><td>sao paulo</td><td>SP</td><td>5528</td><td>Y</td><td>2024-03-23</td><td>9999-12-31</td></tr><tr><td>31</td><td>424aca6872c5bab80780a8dec03b7516</td><td>sao jose dos campos</td><td>SP</td><td>12235</td><td>Y</td><td>2024-03-23</td><td>9999-12-31</td></tr><tr><td>32</td><td>bf4862777db128507e9efcc789215e9b</td><td>sao roque</td><td>SP</td><td>18130</td><td>Y</td><td>2024-03-23</td><td>9999-12-31</td></tr><tr><td>33</td><td>e9dd12dca17352644a959d9dea133935</td><td>camacari</td><td>BA</td><td>42800</td><td>Y</td><td>2024-03-23</td><td>9999-12-31</td></tr><tr><td>34</td><td>e079b18794454de9d2be5c12b4392294</td><td>resende</td><td>RJ</td><td>27525</td><td>Y</td><td>2024-03-23</td><td>9999-12-31</td></tr><tr><td>35</td><td>ef07ba9aa5226f77264ffa5762b2280b</td><td>curitiba</td><td>PR</td><td>81750</td><td>Y</td><td>2024-03-23</td><td>9999-12-31</td></tr><tr><td>36</td><td>85d234692f7bee8d6fea586e237334b6</td><td>sumare</td><td>SP</td><td>13175</td><td>Y</td><td>2024-03-23</td><td>9999-12-31</td></tr><tr><td>37</td><td>fe3634ccefbcdb0537b45fd589e32e8e</td><td>guarulhos</td><td>SP</td><td>7170</td><td>Y</td><td>2024-03-23</td><td>9999-12-31</td></tr><tr><td>38</td><td>40febde16f4718a5def537786473b0be</td><td>novo hamburgo</td><td>RS</td><td>93415</td><td>Y</td><td>2024-03-23</td><td>9999-12-31</td></tr><tr><td>39</td><td>07d190f123147d9e89d4b922543d7948</td><td>sao luis</td><td>MA</td><td>65075</td><td>Y</td><td>2024-03-23</td><td>9999-12-31</td></tr><tr><td>40</td><td>dd992305cba295d997f263dbdf4e8c2e</td><td>sao jose</td><td>SC</td><td>88104</td><td>Y</td><td>2024-03-23</td><td>9999-12-31</td></tr><tr><td>41</td><td>86085586aaa8c5f47ed0b400da64c59d</td><td>guarulhos</td><td>SP</td><td>7176</td><td>Y</td><td>2024-03-23</td><td>9999-12-31</td></tr><tr><td>42</td><td>5ad58a4e6a1a656b6bed070cadbaa003</td><td>santa barbara</td><td>MG</td><td>35960</td><td>Y</td><td>2024-03-23</td><td>9999-12-31</td></tr><tr><td>43</td><td>c9158d089637ab443c78984d20da7fc0</td><td>sao paulo</td><td>SP</td><td>5727</td><td>Y</td><td>2024-03-23</td><td>9999-12-31</td></tr><tr><td>44</td><td>66cc90195ca44cc7ac6a1cd0e1e1e7b2</td><td>guarulhos</td><td>SP</td><td>7053</td><td>Y</td><td>2024-03-23</td><td>9999-12-31</td></tr><tr><td>45</td><td>91ec50a00ae74d0a229d2efdf4344e1e</td><td>ribeirao preto</td><td>SP</td><td>14026</td><td>Y</td><td>2024-03-23</td><td>9999-12-31</td></tr><tr><td>46</td><td>d251c190ca75786e9ab937982d60d1d4</td><td>belo horizonte</td><td>MG</td><td>30320</td><td>Y</td><td>2024-03-23</td><td>9999-12-31</td></tr><tr><td>47</td><td>233896de79986082f1f479f1f85281cb</td><td>ituiutaba</td><td>MG</td><td>38300</td><td>Y</td><td>2024-03-23</td><td>9999-12-31</td></tr><tr><td>48</td><td>a8ae36a2bb6c2bbc3b5d62ede131c9ef</td><td>taquarituba</td><td>SP</td><td>18740</td><td>Y</td><td>2024-03-23</td><td>9999-12-31</td></tr><tr><td>49</td><td>8d46223c91cbeb93e0930ca8bd8ffca2</td><td>sao jose dos pinhais</td><td>PR</td><td>83085</td><td>Y</td><td>2024-03-23</td><td>9999-12-31</td></tr><tr><td>50</td><td>e021e698833bdeb89dfef3acb2e91f37</td><td>jaragua do sul</td><td>SC</td><td>89254</td><td>Y</td><td>2024-03-23</td><td>9999-12-31</td></tr><tr><td>51</td><td>27cf4b153010911a0957150255a6c6db</td><td>sao paulo</td><td>SP</td><td>5351</td><td>Y</td><td>2024-03-23</td><td>9999-12-31</td></tr><tr><td>52</td><td>7ce5b57a120a2da6a804afa58ffcbfb5</td><td>montes claros</td><td>MG</td><td>39406</td><td>Y</td><td>2024-03-23</td><td>9999-12-31</td></tr><tr><td>53</td><td>d33eeadf54cb883e79be640f38c32cdc</td><td>barrinha</td><td>SP</td><td>14860</td><td>Y</td><td>2024-03-23</td><td>9999-12-31</td></tr><tr><td>54</td><td>3da7750bf3c1dbd724624a60a9f5942b</td><td>rio de janeiro</td><td>RJ</td><td>21310</td><td>Y</td><td>2024-03-23</td><td>9999-12-31</td></tr><tr><td>55</td><td>d85547cd859833520b311b4458a14c1c</td><td>parati</td><td>RJ</td><td>23970</td><td>Y</td><td>2024-03-23</td><td>9999-12-31</td></tr><tr><td>56</td><td>3af0b2f7654f613ff1527b997a2ac57e</td><td>dourados</td><td>MS</td><td>79804</td><td>Y</td><td>2024-03-23</td><td>9999-12-31</td></tr><tr><td>57</td><td>3d49f4455a3947c8dd7e972b3ad8cb76</td><td>sao paulo</td><td>SP</td><td>5017</td><td>Y</td><td>2024-03-23</td><td>9999-12-31</td></tr><tr><td>58</td><td>b03e9d9818ee170e9d6b983803c7d406</td><td>trindade</td><td>GO</td><td>75388</td><td>Y</td><td>2024-03-23</td><td>9999-12-31</td></tr><tr><td>59</td><td>a302a693d5722d95984e6472150b9391</td><td>cascavel</td><td>PR</td><td>85808</td><td>Y</td><td>2024-03-23</td><td>9999-12-31</td></tr><tr><td>60</td><td>c80da60feddb7cf8325bd104032e314a</td><td>fortaleza</td><td>CE</td><td>60140</td><td>Y</td><td>2024-03-23</td><td>9999-12-31</td></tr><tr><td>61</td><td>a2b8841410cf77619574d311cd06fd5e</td><td>brasilia</td><td>DF</td><td>72270</td><td>Y</td><td>2024-03-23</td><td>9999-12-31</td></tr><tr><td>62</td><td>7677c213007e9a6ec9267ea50b5ce5bc</td><td>sao paulo</td><td>SP</td><td>2075</td><td>Y</td><td>2024-03-23</td><td>9999-12-31</td></tr><tr><td>63</td><td>0c17f9ac28cbd7323f0f4043e9db5907</td><td>pelotas</td><td>RS</td><td>96015</td><td>Y</td><td>2024-03-23</td><td>9999-12-31</td></tr><tr><td>64</td><td>332cf4e83e16004ba7dca932ce82475b</td><td>porto alegre</td><td>RS</td><td>90010</td><td>Y</td><td>2024-03-23</td><td>9999-12-31</td></tr><tr><td>65</td><td>0d516ca029d6a28d5cfddd80b27a26dc</td><td>rio de janeiro</td><td>RJ</td><td>22440</td><td>Y</td><td>2024-03-23</td><td>9999-12-31</td></tr><tr><td>66</td><td>b3548d0cec408ae13d143bb4eeebaa6c</td><td>salto</td><td>SP</td><td>13323</td><td>Y</td><td>2024-03-23</td><td>9999-12-31</td></tr><tr><td>67</td><td>c3293e875ffb1116018edf76d24e52a2</td><td>belo horizonte</td><td>MG</td><td>30190</td><td>Y</td><td>2024-03-23</td><td>9999-12-31</td></tr><tr><td>68</td><td>d89e05e2d23c3d8247aeecd07758004b</td><td>jundiai</td><td>SP</td><td>13212</td><td>Y</td><td>2024-03-23</td><td>9999-12-31</td></tr><tr><td>69</td><td>dad5018ffc0de85eb72f72575b552784</td><td>cachoeiro de itapemirim</td><td>ES</td><td>29307</td><td>Y</td><td>2024-03-23</td><td>9999-12-31</td></tr><tr><td>70</td><td>95700615deef776ed32faa08f0be634e</td><td>cacapava</td><td>SP</td><td>12280</td><td>Y</td><td>2024-03-23</td><td>9999-12-31</td></tr><tr><td>71</td><td>b157c176c3fe04914fde33f2dc8b878a</td><td>fortaleza</td><td>CE</td><td>60336</td><td>Y</td><td>2024-03-23</td><td>9999-12-31</td></tr><tr><td>72</td><td>d4397835ae287e492b186d497099439a</td><td>sao vicente</td><td>SP</td><td>11310</td><td>Y</td><td>2024-03-23</td><td>9999-12-31</td></tr><tr><td>73</td><td>76b029c87118a29f2e3de420f5ec2fa2</td><td>uberlandia</td><td>MG</td><td>38408</td><td>Y</td><td>2024-03-23</td><td>9999-12-31</td></tr><tr><td>74</td><td>7eaa86786b5955ab188db287f4726d79</td><td>botelhos</td><td>MG</td><td>37720</td><td>Y</td><td>2024-03-23</td><td>9999-12-31</td></tr><tr><td>75</td><td>b436a108536c1dabbc1d3e808d782df9</td><td>sao goncalo</td><td>RJ</td><td>24431</td><td>Y</td><td>2024-03-23</td><td>9999-12-31</td></tr><tr><td>76</td><td>cd076285a12f40041b32f5ad8c98699f</td><td>sao paulo</td><td>SP</td><td>5890</td><td>Y</td><td>2024-03-23</td><td>9999-12-31</td></tr><tr><td>77</td><td>cf6d4152d758efc43910e0141ae5b912</td><td>sao paulo</td><td>SP</td><td>3733</td><td>Y</td><td>2024-03-23</td><td>9999-12-31</td></tr><tr><td>78</td><td>468d559ef2dcd2bea6d8db78959fb90f</td><td>araucaria</td><td>PR</td><td>83709</td><td>Y</td><td>2024-03-23</td><td>9999-12-31</td></tr><tr><td>79</td><td>7556f182460418cf30957e6ce377c674</td><td>sao vicente</td><td>SP</td><td>11347</td><td>Y</td><td>2024-03-23</td><td>9999-12-31</td></tr><tr><td>80</td><td>e5dbefdfdf3eff75c8e6cd655f128279</td><td>nova iguacu</td><td>RJ</td><td>26272</td><td>Y</td><td>2024-03-23</td><td>9999-12-31</td></tr><tr><td>81</td><td>67d21c8bea9d6017d1b124d3879dd815</td><td>sao paulo</td><td>SP</td><td>5415</td><td>Y</td><td>2024-03-23</td><td>9999-12-31</td></tr><tr><td>82</td><td>fd2d5fdb84e65fa6b54b98b0e2df5645</td><td>areia branca</td><td>RN</td><td>59655</td><td>Y</td><td>2024-03-23</td><td>9999-12-31</td></tr><tr><td>83</td><td>d491a65a6ef3c04e145d37395996bad7</td><td>sao paulo</td><td>SP</td><td>4548</td><td>Y</td><td>2024-03-23</td><td>9999-12-31</td></tr><tr><td>84</td><td>6edd17d0a29e2d4057e694afee5eaa3b</td><td>campos dos goytacazes</td><td>RJ</td><td>28010</td><td>Y</td><td>2024-03-23</td><td>9999-12-31</td></tr><tr><td>85</td><td>bf6e263ffc1f89999827615522b0aa45</td><td>sao carlos</td><td>SP</td><td>13573</td><td>Y</td><td>2024-03-23</td><td>9999-12-31</td></tr><tr><td>86</td><td>6d3f61e35d0422fd8cae65b1798784be</td><td>sao paulo</td><td>SP</td><td>2175</td><td>Y</td><td>2024-03-23</td><td>9999-12-31</td></tr><tr><td>87</td><td>a9a77b4e25980b7ca58cb71f878abb27</td><td>itajuba</td><td>MG</td><td>37500</td><td>Y</td><td>2024-03-23</td><td>9999-12-31</td></tr><tr><td>88</td><td>eca666aec08df69fe31aa9a11d4a3302</td><td>porto alegre</td><td>RS</td><td>90670</td><td>Y</td><td>2024-03-23</td><td>9999-12-31</td></tr><tr><td>89</td><td>7a380cb5434e6b6b5b37d45bb99dbe8a</td><td>sao bernardo do campo</td><td>SP</td><td>9890</td><td>Y</td><td>2024-03-23</td><td>9999-12-31</td></tr><tr><td>90</td><td>463093247faa080167d77f2e6d1b297d</td><td>salto</td><td>SP</td><td>13321</td><td>Y</td><td>2024-03-23</td><td>9999-12-31</td></tr><tr><td>91</td><td>914b142462685e3161cf3a9f4152a028</td><td>cruz das almas</td><td>BA</td><td>44380</td><td>Y</td><td>2024-03-23</td><td>9999-12-31</td></tr><tr><td>92</td><td>e235442a956c524e6c141141171f5801</td><td>vassouras</td><td>RJ</td><td>27700</td><td>Y</td><td>2024-03-23</td><td>9999-12-31</td></tr><tr><td>93</td><td>4a4de987b37555970ffcc9608d858a72</td><td>feira de santana</td><td>BA</td><td>44033</td><td>Y</td><td>2024-03-23</td><td>9999-12-31</td></tr><tr><td>94</td><td>44e9a1246448bd68a2e3bf0f1966c57a</td><td>sao paulo</td><td>SP</td><td>4537</td><td>Y</td><td>2024-03-23</td><td>9999-12-31</td></tr><tr><td>95</td><td>b4d6e1b900d99b52e901860bc1f44e35</td><td>brasilia</td><td>DF</td><td>71540</td><td>Y</td><td>2024-03-23</td><td>9999-12-31</td></tr><tr><td>96</td><td>809353196a0456095716566dd226bb48</td><td>sao carlos</td><td>SP</td><td>13569</td><td>Y</td><td>2024-03-23</td><td>9999-12-31</td></tr><tr><td>97</td><td>9e1f719fe5b17b9c51905fee6d6385c1</td><td>sao paulo</td><td>SP</td><td>5565</td><td>Y</td><td>2024-03-23</td><td>9999-12-31</td></tr><tr><td>98</td><td>94b731a41867b47c3856e324840c4c99</td><td>sao paulo</td><td>SP</td><td>3636</td><td>Y</td><td>2024-03-23</td><td>9999-12-31</td></tr><tr><td>99</td><td>694cb45ff29b603ac2acd51016770097</td><td>niteroi</td><td>RJ</td><td>24120</td><td>Y</td><td>2024-03-23</td><td>9999-12-31</td></tr><tr><td>100</td><td>9dbb05f5577e862337b93feb8f358839</td><td>sao luis</td><td>MA</td><td>65058</td><td>Y</td><td>2024-03-23</td><td>9999-12-31</td></tr></tbody></table></div>"
      ]
     },
     "metadata": {
      "application/vnd.databricks.v1+output": {
       "addedWidgets": {},
       "aggData": [],
       "aggError": "",
       "aggOverflow": false,
       "aggSchema": [],
       "aggSeriesLimitReached": false,
       "aggType": "",
       "arguments": {},
       "columnCustomDisplayInfos": {},
       "data": [
        [
         1,
         "861eff4711a542e4b93843c6dd7febb0",
         "franca",
         "SP",
         "14409",
         "Y",
         "2024-03-23",
         "9999-12-31"
        ],
        [
         2,
         "290c77bc529b7ac935b93aa66c333dc3",
         "sao bernardo do campo",
         "SP",
         "9790",
         "Y",
         "2024-03-23",
         "9999-12-31"
        ],
        [
         3,
         "060e732b5b29e8181a18229c7b0b2b5e",
         "sao paulo",
         "SP",
         "1151",
         "Y",
         "2024-03-23",
         "9999-12-31"
        ],
        [
         4,
         "259dac757896d24d7702b9acbbff3f3c",
         "mogi das cruzes",
         "SP",
         "8775",
         "Y",
         "2024-03-23",
         "9999-12-31"
        ],
        [
         5,
         "345ecd01c38d18a9036ed96c73b8d066",
         "campinas",
         "SP",
         "13056",
         "Y",
         "2024-03-23",
         "9999-12-31"
        ],
        [
         6,
         "4c93744516667ad3b8f1fb645a3116a4",
         "jaragua do sul",
         "SC",
         "89254",
         "Y",
         "2024-03-23",
         "9999-12-31"
        ],
        [
         7,
         "addec96d2e059c80c30fe6871d30d177",
         "sao paulo",
         "SP",
         "4534",
         "Y",
         "2024-03-23",
         "9999-12-31"
        ],
        [
         8,
         "57b2a98a409812fe9618067b6b8ebe4f",
         "timoteo",
         "MG",
         "35182",
         "Y",
         "2024-03-23",
         "9999-12-31"
        ],
        [
         9,
         "1175e95fb47ddff9de6b2b06188f7e0d",
         "curitiba",
         "PR",
         "81560",
         "Y",
         "2024-03-23",
         "9999-12-31"
        ],
        [
         10,
         "9afe194fb833f79e300e37e580171f22",
         "belo horizonte",
         "MG",
         "30575",
         "Y",
         "2024-03-23",
         "9999-12-31"
        ],
        [
         11,
         "2a7745e1ed516b289ed9b29c7d0539a5",
         "montes claros",
         "MG",
         "39400",
         "Y",
         "2024-03-23",
         "9999-12-31"
        ],
        [
         12,
         "2a46fb94aef5cbeeb850418118cee090",
         "rio de janeiro",
         "RJ",
         "20231",
         "Y",
         "2024-03-23",
         "9999-12-31"
        ],
        [
         13,
         "918dc87cd72cd9f6ed4bd442ed785235",
         "lencois paulista",
         "SP",
         "18682",
         "Y",
         "2024-03-23",
         "9999-12-31"
        ],
        [
         14,
         "295c05e81917928d76245e842748184d",
         "sao paulo",
         "SP",
         "5704",
         "Y",
         "2024-03-23",
         "9999-12-31"
        ],
        [
         15,
         "3151a81801c8386361b62277d7fa5ecf",
         "caxias do sul",
         "RS",
         "95110",
         "Y",
         "2024-03-23",
         "9999-12-31"
        ],
        [
         16,
         "21f748a16f4e1688a9014eb3ee6fa325",
         "piracicaba",
         "SP",
         "13412",
         "Y",
         "2024-03-23",
         "9999-12-31"
        ],
        [
         17,
         "5c2991dbd08bbf3cf410713c4de5a0b5",
         "rio de janeiro",
         "RJ",
         "22750",
         "Y",
         "2024-03-23",
         "9999-12-31"
        ],
        [
         18,
         "b6e99561fe6f34a55b0b7da92f8ed775",
         "guarulhos",
         "SP",
         "7124",
         "Y",
         "2024-03-23",
         "9999-12-31"
        ],
        [
         19,
         "7f3a72e8f988c6e735ba118d54f47458",
         "sao paulo",
         "SP",
         "5416",
         "Y",
         "2024-03-23",
         "9999-12-31"
        ],
        [
         20,
         "3e6fd6b2f0d499456a6a6820a40f2d79",
         "pacaja",
         "PA",
         "68485",
         "Y",
         "2024-03-23",
         "9999-12-31"
        ],
        [
         21,
         "e607ede0e63436308660236f5a52da5e",
         "florianopolis",
         "SC",
         "88034",
         "Y",
         "2024-03-23",
         "9999-12-31"
        ],
        [
         22,
         "a96d5cfa0d3181817e2b946f921ea021",
         "aparecida de goiania",
         "GO",
         "74914",
         "Y",
         "2024-03-23",
         "9999-12-31"
        ],
        [
         23,
         "482441ea6a06b1f72fe9784756c0ea75",
         "sao paulo",
         "SP",
         "5713",
         "Y",
         "2024-03-23",
         "9999-12-31"
        ],
        [
         24,
         "4390ddbb6276a66ff1736a6710205dca",
         "curitiba",
         "PR",
         "82820",
         "Y",
         "2024-03-23",
         "9999-12-31"
        ],
        [
         25,
         "a5844ba4bfc8d0cc61d13027c7e63bcc",
         "sao paulo",
         "SP",
         "8225",
         "Y",
         "2024-03-23",
         "9999-12-31"
        ],
        [
         26,
         "5f102dd37243f152aec3607970aad100",
         "santo andre",
         "SP",
         "9121",
         "Y",
         "2024-03-23",
         "9999-12-31"
        ],
        [
         27,
         "9c0096673baf55453a50073f12d1a37f",
         "goiania",
         "GO",
         "74310",
         "Y",
         "2024-03-23",
         "9999-12-31"
        ],
        [
         28,
         "2e6a42a9b5cbb0da62988694f18ee295",
         "sao paulo",
         "SP",
         "4571",
         "Y",
         "2024-03-23",
         "9999-12-31"
        ],
        [
         29,
         "4d221875624017bc47b4d1ce7314a5b7",
         "cachoeiro de itapemirim",
         "ES",
         "29311",
         "Y",
         "2024-03-23",
         "9999-12-31"
        ],
        [
         30,
         "a8654e2af5da6bb72f52c22b164855e1",
         "sao paulo",
         "SP",
         "5528",
         "Y",
         "2024-03-23",
         "9999-12-31"
        ],
        [
         31,
         "424aca6872c5bab80780a8dec03b7516",
         "sao jose dos campos",
         "SP",
         "12235",
         "Y",
         "2024-03-23",
         "9999-12-31"
        ],
        [
         32,
         "bf4862777db128507e9efcc789215e9b",
         "sao roque",
         "SP",
         "18130",
         "Y",
         "2024-03-23",
         "9999-12-31"
        ],
        [
         33,
         "e9dd12dca17352644a959d9dea133935",
         "camacari",
         "BA",
         "42800",
         "Y",
         "2024-03-23",
         "9999-12-31"
        ],
        [
         34,
         "e079b18794454de9d2be5c12b4392294",
         "resende",
         "RJ",
         "27525",
         "Y",
         "2024-03-23",
         "9999-12-31"
        ],
        [
         35,
         "ef07ba9aa5226f77264ffa5762b2280b",
         "curitiba",
         "PR",
         "81750",
         "Y",
         "2024-03-23",
         "9999-12-31"
        ],
        [
         36,
         "85d234692f7bee8d6fea586e237334b6",
         "sumare",
         "SP",
         "13175",
         "Y",
         "2024-03-23",
         "9999-12-31"
        ],
        [
         37,
         "fe3634ccefbcdb0537b45fd589e32e8e",
         "guarulhos",
         "SP",
         "7170",
         "Y",
         "2024-03-23",
         "9999-12-31"
        ],
        [
         38,
         "40febde16f4718a5def537786473b0be",
         "novo hamburgo",
         "RS",
         "93415",
         "Y",
         "2024-03-23",
         "9999-12-31"
        ],
        [
         39,
         "07d190f123147d9e89d4b922543d7948",
         "sao luis",
         "MA",
         "65075",
         "Y",
         "2024-03-23",
         "9999-12-31"
        ],
        [
         40,
         "dd992305cba295d997f263dbdf4e8c2e",
         "sao jose",
         "SC",
         "88104",
         "Y",
         "2024-03-23",
         "9999-12-31"
        ],
        [
         41,
         "86085586aaa8c5f47ed0b400da64c59d",
         "guarulhos",
         "SP",
         "7176",
         "Y",
         "2024-03-23",
         "9999-12-31"
        ],
        [
         42,
         "5ad58a4e6a1a656b6bed070cadbaa003",
         "santa barbara",
         "MG",
         "35960",
         "Y",
         "2024-03-23",
         "9999-12-31"
        ],
        [
         43,
         "c9158d089637ab443c78984d20da7fc0",
         "sao paulo",
         "SP",
         "5727",
         "Y",
         "2024-03-23",
         "9999-12-31"
        ],
        [
         44,
         "66cc90195ca44cc7ac6a1cd0e1e1e7b2",
         "guarulhos",
         "SP",
         "7053",
         "Y",
         "2024-03-23",
         "9999-12-31"
        ],
        [
         45,
         "91ec50a00ae74d0a229d2efdf4344e1e",
         "ribeirao preto",
         "SP",
         "14026",
         "Y",
         "2024-03-23",
         "9999-12-31"
        ],
        [
         46,
         "d251c190ca75786e9ab937982d60d1d4",
         "belo horizonte",
         "MG",
         "30320",
         "Y",
         "2024-03-23",
         "9999-12-31"
        ],
        [
         47,
         "233896de79986082f1f479f1f85281cb",
         "ituiutaba",
         "MG",
         "38300",
         "Y",
         "2024-03-23",
         "9999-12-31"
        ],
        [
         48,
         "a8ae36a2bb6c2bbc3b5d62ede131c9ef",
         "taquarituba",
         "SP",
         "18740",
         "Y",
         "2024-03-23",
         "9999-12-31"
        ],
        [
         49,
         "8d46223c91cbeb93e0930ca8bd8ffca2",
         "sao jose dos pinhais",
         "PR",
         "83085",
         "Y",
         "2024-03-23",
         "9999-12-31"
        ],
        [
         50,
         "e021e698833bdeb89dfef3acb2e91f37",
         "jaragua do sul",
         "SC",
         "89254",
         "Y",
         "2024-03-23",
         "9999-12-31"
        ],
        [
         51,
         "27cf4b153010911a0957150255a6c6db",
         "sao paulo",
         "SP",
         "5351",
         "Y",
         "2024-03-23",
         "9999-12-31"
        ],
        [
         52,
         "7ce5b57a120a2da6a804afa58ffcbfb5",
         "montes claros",
         "MG",
         "39406",
         "Y",
         "2024-03-23",
         "9999-12-31"
        ],
        [
         53,
         "d33eeadf54cb883e79be640f38c32cdc",
         "barrinha",
         "SP",
         "14860",
         "Y",
         "2024-03-23",
         "9999-12-31"
        ],
        [
         54,
         "3da7750bf3c1dbd724624a60a9f5942b",
         "rio de janeiro",
         "RJ",
         "21310",
         "Y",
         "2024-03-23",
         "9999-12-31"
        ],
        [
         55,
         "d85547cd859833520b311b4458a14c1c",
         "parati",
         "RJ",
         "23970",
         "Y",
         "2024-03-23",
         "9999-12-31"
        ],
        [
         56,
         "3af0b2f7654f613ff1527b997a2ac57e",
         "dourados",
         "MS",
         "79804",
         "Y",
         "2024-03-23",
         "9999-12-31"
        ],
        [
         57,
         "3d49f4455a3947c8dd7e972b3ad8cb76",
         "sao paulo",
         "SP",
         "5017",
         "Y",
         "2024-03-23",
         "9999-12-31"
        ],
        [
         58,
         "b03e9d9818ee170e9d6b983803c7d406",
         "trindade",
         "GO",
         "75388",
         "Y",
         "2024-03-23",
         "9999-12-31"
        ],
        [
         59,
         "a302a693d5722d95984e6472150b9391",
         "cascavel",
         "PR",
         "85808",
         "Y",
         "2024-03-23",
         "9999-12-31"
        ],
        [
         60,
         "c80da60feddb7cf8325bd104032e314a",
         "fortaleza",
         "CE",
         "60140",
         "Y",
         "2024-03-23",
         "9999-12-31"
        ],
        [
         61,
         "a2b8841410cf77619574d311cd06fd5e",
         "brasilia",
         "DF",
         "72270",
         "Y",
         "2024-03-23",
         "9999-12-31"
        ],
        [
         62,
         "7677c213007e9a6ec9267ea50b5ce5bc",
         "sao paulo",
         "SP",
         "2075",
         "Y",
         "2024-03-23",
         "9999-12-31"
        ],
        [
         63,
         "0c17f9ac28cbd7323f0f4043e9db5907",
         "pelotas",
         "RS",
         "96015",
         "Y",
         "2024-03-23",
         "9999-12-31"
        ],
        [
         64,
         "332cf4e83e16004ba7dca932ce82475b",
         "porto alegre",
         "RS",
         "90010",
         "Y",
         "2024-03-23",
         "9999-12-31"
        ],
        [
         65,
         "0d516ca029d6a28d5cfddd80b27a26dc",
         "rio de janeiro",
         "RJ",
         "22440",
         "Y",
         "2024-03-23",
         "9999-12-31"
        ],
        [
         66,
         "b3548d0cec408ae13d143bb4eeebaa6c",
         "salto",
         "SP",
         "13323",
         "Y",
         "2024-03-23",
         "9999-12-31"
        ],
        [
         67,
         "c3293e875ffb1116018edf76d24e52a2",
         "belo horizonte",
         "MG",
         "30190",
         "Y",
         "2024-03-23",
         "9999-12-31"
        ],
        [
         68,
         "d89e05e2d23c3d8247aeecd07758004b",
         "jundiai",
         "SP",
         "13212",
         "Y",
         "2024-03-23",
         "9999-12-31"
        ],
        [
         69,
         "dad5018ffc0de85eb72f72575b552784",
         "cachoeiro de itapemirim",
         "ES",
         "29307",
         "Y",
         "2024-03-23",
         "9999-12-31"
        ],
        [
         70,
         "95700615deef776ed32faa08f0be634e",
         "cacapava",
         "SP",
         "12280",
         "Y",
         "2024-03-23",
         "9999-12-31"
        ],
        [
         71,
         "b157c176c3fe04914fde33f2dc8b878a",
         "fortaleza",
         "CE",
         "60336",
         "Y",
         "2024-03-23",
         "9999-12-31"
        ],
        [
         72,
         "d4397835ae287e492b186d497099439a",
         "sao vicente",
         "SP",
         "11310",
         "Y",
         "2024-03-23",
         "9999-12-31"
        ],
        [
         73,
         "76b029c87118a29f2e3de420f5ec2fa2",
         "uberlandia",
         "MG",
         "38408",
         "Y",
         "2024-03-23",
         "9999-12-31"
        ],
        [
         74,
         "7eaa86786b5955ab188db287f4726d79",
         "botelhos",
         "MG",
         "37720",
         "Y",
         "2024-03-23",
         "9999-12-31"
        ],
        [
         75,
         "b436a108536c1dabbc1d3e808d782df9",
         "sao goncalo",
         "RJ",
         "24431",
         "Y",
         "2024-03-23",
         "9999-12-31"
        ],
        [
         76,
         "cd076285a12f40041b32f5ad8c98699f",
         "sao paulo",
         "SP",
         "5890",
         "Y",
         "2024-03-23",
         "9999-12-31"
        ],
        [
         77,
         "cf6d4152d758efc43910e0141ae5b912",
         "sao paulo",
         "SP",
         "3733",
         "Y",
         "2024-03-23",
         "9999-12-31"
        ],
        [
         78,
         "468d559ef2dcd2bea6d8db78959fb90f",
         "araucaria",
         "PR",
         "83709",
         "Y",
         "2024-03-23",
         "9999-12-31"
        ],
        [
         79,
         "7556f182460418cf30957e6ce377c674",
         "sao vicente",
         "SP",
         "11347",
         "Y",
         "2024-03-23",
         "9999-12-31"
        ],
        [
         80,
         "e5dbefdfdf3eff75c8e6cd655f128279",
         "nova iguacu",
         "RJ",
         "26272",
         "Y",
         "2024-03-23",
         "9999-12-31"
        ],
        [
         81,
         "67d21c8bea9d6017d1b124d3879dd815",
         "sao paulo",
         "SP",
         "5415",
         "Y",
         "2024-03-23",
         "9999-12-31"
        ],
        [
         82,
         "fd2d5fdb84e65fa6b54b98b0e2df5645",
         "areia branca",
         "RN",
         "59655",
         "Y",
         "2024-03-23",
         "9999-12-31"
        ],
        [
         83,
         "d491a65a6ef3c04e145d37395996bad7",
         "sao paulo",
         "SP",
         "4548",
         "Y",
         "2024-03-23",
         "9999-12-31"
        ],
        [
         84,
         "6edd17d0a29e2d4057e694afee5eaa3b",
         "campos dos goytacazes",
         "RJ",
         "28010",
         "Y",
         "2024-03-23",
         "9999-12-31"
        ],
        [
         85,
         "bf6e263ffc1f89999827615522b0aa45",
         "sao carlos",
         "SP",
         "13573",
         "Y",
         "2024-03-23",
         "9999-12-31"
        ],
        [
         86,
         "6d3f61e35d0422fd8cae65b1798784be",
         "sao paulo",
         "SP",
         "2175",
         "Y",
         "2024-03-23",
         "9999-12-31"
        ],
        [
         87,
         "a9a77b4e25980b7ca58cb71f878abb27",
         "itajuba",
         "MG",
         "37500",
         "Y",
         "2024-03-23",
         "9999-12-31"
        ],
        [
         88,
         "eca666aec08df69fe31aa9a11d4a3302",
         "porto alegre",
         "RS",
         "90670",
         "Y",
         "2024-03-23",
         "9999-12-31"
        ],
        [
         89,
         "7a380cb5434e6b6b5b37d45bb99dbe8a",
         "sao bernardo do campo",
         "SP",
         "9890",
         "Y",
         "2024-03-23",
         "9999-12-31"
        ],
        [
         90,
         "463093247faa080167d77f2e6d1b297d",
         "salto",
         "SP",
         "13321",
         "Y",
         "2024-03-23",
         "9999-12-31"
        ],
        [
         91,
         "914b142462685e3161cf3a9f4152a028",
         "cruz das almas",
         "BA",
         "44380",
         "Y",
         "2024-03-23",
         "9999-12-31"
        ],
        [
         92,
         "e235442a956c524e6c141141171f5801",
         "vassouras",
         "RJ",
         "27700",
         "Y",
         "2024-03-23",
         "9999-12-31"
        ],
        [
         93,
         "4a4de987b37555970ffcc9608d858a72",
         "feira de santana",
         "BA",
         "44033",
         "Y",
         "2024-03-23",
         "9999-12-31"
        ],
        [
         94,
         "44e9a1246448bd68a2e3bf0f1966c57a",
         "sao paulo",
         "SP",
         "4537",
         "Y",
         "2024-03-23",
         "9999-12-31"
        ],
        [
         95,
         "b4d6e1b900d99b52e901860bc1f44e35",
         "brasilia",
         "DF",
         "71540",
         "Y",
         "2024-03-23",
         "9999-12-31"
        ],
        [
         96,
         "809353196a0456095716566dd226bb48",
         "sao carlos",
         "SP",
         "13569",
         "Y",
         "2024-03-23",
         "9999-12-31"
        ],
        [
         97,
         "9e1f719fe5b17b9c51905fee6d6385c1",
         "sao paulo",
         "SP",
         "5565",
         "Y",
         "2024-03-23",
         "9999-12-31"
        ],
        [
         98,
         "94b731a41867b47c3856e324840c4c99",
         "sao paulo",
         "SP",
         "3636",
         "Y",
         "2024-03-23",
         "9999-12-31"
        ],
        [
         99,
         "694cb45ff29b603ac2acd51016770097",
         "niteroi",
         "RJ",
         "24120",
         "Y",
         "2024-03-23",
         "9999-12-31"
        ],
        [
         100,
         "9dbb05f5577e862337b93feb8f358839",
         "sao luis",
         "MA",
         "65058",
         "Y",
         "2024-03-23",
         "9999-12-31"
        ]
       ],
       "datasetInfos": [],
       "dbfsResultPath": null,
       "isJsonSchema": true,
       "metadata": {},
       "overflow": false,
       "plotOptions": {
        "customPlotOptions": {},
        "displayType": "table",
        "pivotAggregation": null,
        "pivotColumns": null,
        "xColumns": null,
        "yColumns": null
       },
       "removedWidgets": [],
       "schema": [
        {
         "metadata": "{}",
         "name": "id",
         "type": "\"long\""
        },
        {
         "metadata": "{}",
         "name": "customer_id",
         "type": "\"string\""
        },
        {
         "metadata": "{}",
         "name": "customer_city",
         "type": "\"string\""
        },
        {
         "metadata": "{}",
         "name": "customer_state",
         "type": "\"string\""
        },
        {
         "metadata": "{}",
         "name": "customer_zip_code_prefix",
         "type": "\"string\""
        },
        {
         "metadata": "{}",
         "name": "Active_Flag",
         "type": "\"string\""
        },
        {
         "metadata": "{}",
         "name": "From_Date",
         "type": "\"date\""
        },
        {
         "metadata": "{}",
         "name": "To_Date",
         "type": "\"date\""
        }
       ],
       "type": "table"
      }
     },
     "output_type": "display_data"
    }
   ],
   "source": [
    "\n",
    "#load history data\n",
    "\n",
    "from pyspark.sql.functions import lit,now,to_date,xxhash64,col\n",
    "\n",
    "customer= spark.read.parquet(\"dbfs:/mnt/ecom1/customer/customers.parquet\")\n",
    "\n",
    "\n",
    "customer1=customer.withColumn(\"Active_Flag\",lit(\"Y\")).withColumn(\"From_Date\",to_date(now()))\\\n",
    "    .withColumn(\"To_Date\",to_date(lit('9999-12-31')))\n",
    "\n",
    "display(customer1)"
   ]
  },
  {
   "cell_type": "code",
   "execution_count": 0,
   "metadata": {
    "application/vnd.databricks.v1+cell": {
     "cellMetadata": {
      "byteLimit": 2048000,
      "rowLimit": 10000
     },
     "inputWidgets": {},
     "nuid": "baf0fb9e-a410-4a65-9d80-fbcea8761b41",
     "showTitle": false,
     "title": ""
    }
   },
   "outputs": [],
   "source": [
    "spark.sql(\"create database if not exists customer_master;\")\n",
    "customer1.write.mode(\"overwrite\").saveAsTable(\"customer_master.customers_hist\")\n"
   ]
  },
  {
   "cell_type": "code",
   "execution_count": 0,
   "metadata": {
    "application/vnd.databricks.v1+cell": {
     "cellMetadata": {
      "byteLimit": 2048000,
      "implicitDf": true,
      "rowLimit": 10000
     },
     "inputWidgets": {},
     "nuid": "2b72188b-b894-4372-bad3-253b725f5354",
     "showTitle": false,
     "title": ""
    }
   },
   "outputs": [
    {
     "output_type": "display_data",
     "data": {
      "text/html": [
       "<style scoped>\n",
       "  .table-result-container {\n",
       "    max-height: 300px;\n",
       "    overflow: auto;\n",
       "  }\n",
       "  table, th, td {\n",
       "    border: 1px solid black;\n",
       "    border-collapse: collapse;\n",
       "  }\n",
       "  th, td {\n",
       "    padding: 5px;\n",
       "  }\n",
       "  th {\n",
       "    text-align: left;\n",
       "  }\n",
       "</style><div class='table-result-container'><table class='table-result'><thead style='background-color: white'><tr><th>xxhash64(customer_zip_code_prefix, customer_city, customer_state)</th><th>xxhash64(14410, customer_city, customer_state)</th><th>id</th><th>customer_id</th><th>customer_city</th><th>customer_state</th><th>customer_zip_code_prefix</th><th>Active_Flag</th><th>From_Date</th><th>To_Date</th></tr></thead><tbody><tr><td>4856160795173122497</td><td>-27257565422297328</td><td>1</td><td>861eff4711a542e4b93843c6dd7febb0</td><td>franca</td><td>SP</td><td>14409</td><td>Y</td><td>2024-03-23</td><td>9999-12-31</td></tr></tbody></table></div>"
      ]
     },
     "metadata": {
      "application/vnd.databricks.v1+output": {
       "addedWidgets": {},
       "aggData": [],
       "aggError": "",
       "aggOverflow": false,
       "aggSchema": [],
       "aggSeriesLimitReached": false,
       "aggType": "",
       "arguments": {},
       "columnCustomDisplayInfos": {},
       "data": [
        [
         4856160795173122497,
         -27257565422297328,
         1,
         "861eff4711a542e4b93843c6dd7febb0",
         "franca",
         "SP",
         "14409",
         "Y",
         "2024-03-23",
         "9999-12-31"
        ]
       ],
       "datasetInfos": [],
       "dbfsResultPath": null,
       "isJsonSchema": true,
       "metadata": {
        "dataframeName": "_sqldf",
        "executionCount": 8
       },
       "overflow": false,
       "plotOptions": {
        "customPlotOptions": {},
        "displayType": "table",
        "pivotAggregation": null,
        "pivotColumns": null,
        "xColumns": null,
        "yColumns": null
       },
       "removedWidgets": [],
       "schema": [
        {
         "metadata": "{\"__autoGeneratedAlias\":\"true\"}",
         "name": "xxhash64(customer_zip_code_prefix, customer_city, customer_state)",
         "type": "\"long\""
        },
        {
         "metadata": "{\"__autoGeneratedAlias\":\"true\"}",
         "name": "xxhash64(14410, customer_city, customer_state)",
         "type": "\"long\""
        },
        {
         "metadata": "{}",
         "name": "id",
         "type": "\"long\""
        },
        {
         "metadata": "{}",
         "name": "customer_id",
         "type": "\"string\""
        },
        {
         "metadata": "{}",
         "name": "customer_city",
         "type": "\"string\""
        },
        {
         "metadata": "{}",
         "name": "customer_state",
         "type": "\"string\""
        },
        {
         "metadata": "{}",
         "name": "customer_zip_code_prefix",
         "type": "\"string\""
        },
        {
         "metadata": "{}",
         "name": "Active_Flag",
         "type": "\"string\""
        },
        {
         "metadata": "{}",
         "name": "From_Date",
         "type": "\"date\""
        },
        {
         "metadata": "{}",
         "name": "To_Date",
         "type": "\"date\""
        }
       ],
       "type": "table"
      }
     },
     "output_type": "display_data"
    }
   ],
   "source": [
    "%sql\n",
    "select xxhash64(customer_d1.customer_zip_code_prefix,customer_d1.customer_city,customer_d1.customer_state  ) ,\n",
    "xxhash64('14410',customer_d1.customer_city,customer_d1.customer_state  ) ,\n",
    "* from customer_master.customers_hist customer_d1\n",
    "where customer_id='861eff4711a542e4b93843c6dd7febb0'"
   ]
  },
  {
   "cell_type": "code",
   "execution_count": 0,
   "metadata": {
    "application/vnd.databricks.v1+cell": {
     "cellMetadata": {
      "byteLimit": 2048000,
      "rowLimit": 10000
     },
     "inputWidgets": {},
     "nuid": "113b953d-9eb6-4712-bc2a-2bec07d460d1",
     "showTitle": false,
     "title": ""
    }
   },
   "outputs": [
    {
     "output_type": "display_data",
     "data": {
      "text/html": [
       "<style scoped>\n",
       "  .table-result-container {\n",
       "    max-height: 300px;\n",
       "    overflow: auto;\n",
       "  }\n",
       "  table, th, td {\n",
       "    border: 1px solid black;\n",
       "    border-collapse: collapse;\n",
       "  }\n",
       "  th, td {\n",
       "    padding: 5px;\n",
       "  }\n",
       "  th {\n",
       "    text-align: left;\n",
       "  }\n",
       "</style><div class='table-result-container'><table class='table-result'><thead style='background-color: white'><tr><th>customer_id</th><th>customer_zip_code_prefix</th><th>customer_city</th><th>customer_state</th><th>Active_Flag</th><th>From_Date</th><th>To_Date</th></tr></thead><tbody><tr><td>861eff4711a542e4b93843c6dd7febb0</td><td>15000</td><td>franca</td><td>SP</td><td>Y</td><td>2024-03-23</td><td>9999-12-31</td></tr><tr><td>290c77bc529b7ac935b93aa66c333dc3</td><td>9790</td><td>sao paulo</td><td>SP</td><td>Y</td><td>2024-03-23</td><td>9999-12-31</td></tr><tr><td>9999999999999999999999999990</td><td>81560</td><td>timoteo</td><td>MG</td><td>Y</td><td>2024-03-23</td><td>9999-12-31</td></tr></tbody></table></div>"
      ]
     },
     "metadata": {
      "application/vnd.databricks.v1+output": {
       "addedWidgets": {},
       "aggData": [],
       "aggError": "",
       "aggOverflow": false,
       "aggSchema": [],
       "aggSeriesLimitReached": false,
       "aggType": "",
       "arguments": {},
       "columnCustomDisplayInfos": {},
       "data": [
        [
         "861eff4711a542e4b93843c6dd7febb0",
         "15000",
         "franca",
         "SP",
         "Y",
         "2024-03-23",
         "9999-12-31"
        ],
        [
         "290c77bc529b7ac935b93aa66c333dc3",
         "9790",
         "sao paulo",
         "SP",
         "Y",
         "2024-03-23",
         "9999-12-31"
        ],
        [
         "9999999999999999999999999990",
         "81560",
         "timoteo",
         "MG",
         "Y",
         "2024-03-23",
         "9999-12-31"
        ]
       ],
       "datasetInfos": [],
       "dbfsResultPath": null,
       "isJsonSchema": true,
       "metadata": {},
       "overflow": false,
       "plotOptions": {
        "customPlotOptions": {},
        "displayType": "table",
        "pivotAggregation": null,
        "pivotColumns": null,
        "xColumns": null,
        "yColumns": null
       },
       "removedWidgets": [],
       "schema": [
        {
         "metadata": "{}",
         "name": "customer_id",
         "type": "\"string\""
        },
        {
         "metadata": "{}",
         "name": "customer_zip_code_prefix",
         "type": "\"string\""
        },
        {
         "metadata": "{}",
         "name": "customer_city",
         "type": "\"string\""
        },
        {
         "metadata": "{}",
         "name": "customer_state",
         "type": "\"string\""
        },
        {
         "metadata": "{}",
         "name": "Active_Flag",
         "type": "\"string\""
        },
        {
         "metadata": "{}",
         "name": "From_Date",
         "type": "\"date\""
        },
        {
         "metadata": "{}",
         "name": "To_Date",
         "type": "\"date\""
        }
       ],
       "type": "table"
      }
     },
     "output_type": "display_data"
    }
   ],
   "source": [
    "customer_hist=spark.read.table(\"customer_master.customers_hist\")\n",
    "#read delta table\n",
    "customer_d= spark.read.parquet(\"dbfs:/mnt/ecom1/customer/customer_delta.parquet\")\n",
    "\n",
    "customer_d1=customer_d.withColumn(\"Active_Flag\",lit(\"Y\")).withColumn(\"From_Date\",to_date(now()))\\\n",
    "    .withColumn(\"To_Date\",to_date(lit('9999-12-31')))\n",
    "\n",
    "\n",
    "customer_d1.display()\n",
    "\n",
    "\n",
    " \n",
    "\n"
   ]
  },
  {
   "cell_type": "code",
   "execution_count": 0,
   "metadata": {
    "application/vnd.databricks.v1+cell": {
     "cellMetadata": {
      "byteLimit": 2048000,
      "rowLimit": 10000
     },
     "inputWidgets": {},
     "nuid": "8e79da14-10a8-47be-8f92-0169bad60864",
     "showTitle": false,
     "title": ""
    }
   },
   "outputs": [],
   "source": []
  },
  {
   "cell_type": "code",
   "execution_count": 0,
   "metadata": {
    "application/vnd.databricks.v1+cell": {
     "cellMetadata": {
      "byteLimit": 2048000,
      "rowLimit": 10000
     },
     "inputWidgets": {},
     "nuid": "33975ccf-5c06-4ec4-9b49-c1037192d13d",
     "showTitle": false,
     "title": ""
    }
   },
   "outputs": [
    {
     "output_type": "display_data",
     "data": {
      "text/html": [
       "<style scoped>\n",
       "  .table-result-container {\n",
       "    max-height: 300px;\n",
       "    overflow: auto;\n",
       "  }\n",
       "  table, th, td {\n",
       "    border: 1px solid black;\n",
       "    border-collapse: collapse;\n",
       "  }\n",
       "  th, td {\n",
       "    padding: 5px;\n",
       "  }\n",
       "  th {\n",
       "    text-align: left;\n",
       "  }\n",
       "</style><div class='table-result-container'><table class='table-result'><thead style='background-color: white'><tr><th>customer_id</th><th>customer_zip_code_prefix</th><th>customer_city</th><th>customer_state</th><th>Active_Flag</th><th>From_Date</th><th>To_Date</th></tr></thead><tbody><tr><td>861eff4711a542e4b93843c6dd7febb0</td><td>14409</td><td>franca</td><td>SP</td><td>N</td><td>2024-03-23</td><td>2024-03-23</td></tr><tr><td>290c77bc529b7ac935b93aa66c333dc3</td><td>9790</td><td>sao bernardo do campo</td><td>SP</td><td>N</td><td>2024-03-23</td><td>2024-03-23</td></tr></tbody></table></div>"
      ]
     },
     "metadata": {
      "application/vnd.databricks.v1+output": {
       "addedWidgets": {},
       "aggData": [],
       "aggError": "",
       "aggOverflow": false,
       "aggSchema": [],
       "aggSeriesLimitReached": false,
       "aggType": "",
       "arguments": {},
       "columnCustomDisplayInfos": {},
       "data": [
        [
         "861eff4711a542e4b93843c6dd7febb0",
         "14409",
         "franca",
         "SP",
         "N",
         "2024-03-23",
         "2024-03-23"
        ],
        [
         "290c77bc529b7ac935b93aa66c333dc3",
         "9790",
         "sao bernardo do campo",
         "SP",
         "N",
         "2024-03-23",
         "2024-03-23"
        ]
       ],
       "datasetInfos": [],
       "dbfsResultPath": null,
       "isJsonSchema": true,
       "metadata": {},
       "overflow": false,
       "plotOptions": {
        "customPlotOptions": {},
        "displayType": "table",
        "pivotAggregation": null,
        "pivotColumns": null,
        "xColumns": null,
        "yColumns": null
       },
       "removedWidgets": [],
       "schema": [
        {
         "metadata": "{}",
         "name": "customer_id",
         "type": "\"string\""
        },
        {
         "metadata": "{}",
         "name": "customer_zip_code_prefix",
         "type": "\"string\""
        },
        {
         "metadata": "{}",
         "name": "customer_city",
         "type": "\"string\""
        },
        {
         "metadata": "{}",
         "name": "customer_state",
         "type": "\"string\""
        },
        {
         "metadata": "{}",
         "name": "Active_Flag",
         "type": "\"string\""
        },
        {
         "metadata": "{}",
         "name": "From_Date",
         "type": "\"date\""
        },
        {
         "metadata": "{}",
         "name": "To_Date",
         "type": "\"date\""
        }
       ],
       "type": "table"
      }
     },
     "output_type": "display_data"
    }
   ],
   "source": [
    "\n",
    "\n",
    "#scd type 2\n",
    "\n",
    "update_ds=customer_hist.join(customer_d1,((customer_hist.customer_id==customer_d1.customer_id) & (customer_hist.Active_Flag =='Y') ),\"inner\")\\\n",
    "    .filter(xxhash64(customer_hist.customer_zip_code_prefix,customer_hist.customer_city,customer_hist.customer_state ) !=\n",
    "            xxhash64(customer_d1.customer_zip_code_prefix,customer_d1.customer_city,customer_d1.customer_state  ) )\\\n",
    "                .select(customer_hist.customer_id,\n",
    "                        customer_hist.customer_zip_code_prefix,\n",
    "                        customer_hist.customer_city,\n",
    "                        customer_hist.customer_state,\n",
    "                        lit(\"N\").alias(\"Active_Flag\"),\n",
    "                        customer_hist.From_Date,\n",
    "                        lit(to_date(now())).alias(\"To_Date\"))\n",
    "update_ds.display()\n"
   ]
  },
  {
   "cell_type": "code",
   "execution_count": 0,
   "metadata": {
    "application/vnd.databricks.v1+cell": {
     "cellMetadata": {
      "byteLimit": 2048000,
      "rowLimit": 10000
     },
     "inputWidgets": {},
     "nuid": "bdc3ec1b-cdb1-49e7-b90d-95f693f3255d",
     "showTitle": false,
     "title": ""
    }
   },
   "outputs": [],
   "source": [
    "\n",
    "no_change=customer_hist.join(update_ds,((customer_hist.customer_id==update_ds.customer_id) & (customer_hist.Active_Flag =='Y') ),\"left_anti\")\n",
    "insert_ds = customer_d1.join(no_change,\"customer_id\",\"left_anti\")\n",
    "no_change1=no_change.drop('id')\n",
    "consolidate=no_change1.union(update_ds).union(insert_ds)\n",
    "# no_change.printSchema()\n",
    "# update_ds.printSchema()\n",
    "# insert_ds.printSchema()\n",
    "\n",
    "\n",
    "# no_change1.printSchema()\n",
    "consolidate.write.mode(\"overwrite\").saveAsTable(\"customer_master.customers_hist\")\n"
   ]
  },
  {
   "cell_type": "code",
   "execution_count": 0,
   "metadata": {
    "application/vnd.databricks.v1+cell": {
     "cellMetadata": {},
     "inputWidgets": {},
     "nuid": "310a7294-5a75-4a47-bd05-50e832d0c736",
     "showTitle": false,
     "title": ""
    }
   },
   "outputs": [],
   "source": []
  },
  {
   "cell_type": "code",
   "execution_count": 0,
   "metadata": {
    "application/vnd.databricks.v1+cell": {
     "cellMetadata": {
      "byteLimit": 2048000,
      "implicitDf": true,
      "rowLimit": 10000
     },
     "inputWidgets": {},
     "nuid": "96cf743a-a4d7-4981-b5b0-63371bc4a35a",
     "showTitle": false,
     "title": ""
    }
   },
   "outputs": [
    {
     "output_type": "display_data",
     "data": {
      "text/html": [
       "<style scoped>\n",
       "  .table-result-container {\n",
       "    max-height: 300px;\n",
       "    overflow: auto;\n",
       "  }\n",
       "  table, th, td {\n",
       "    border: 1px solid black;\n",
       "    border-collapse: collapse;\n",
       "  }\n",
       "  th, td {\n",
       "    padding: 5px;\n",
       "  }\n",
       "  th {\n",
       "    text-align: left;\n",
       "  }\n",
       "</style><div class='table-result-container'><table class='table-result'><thead style='background-color: white'><tr><th>customer_id</th><th>customer_zip_code_prefix</th><th>customer_city</th><th>customer_state</th><th>Active_Flag</th><th>From_Date</th><th>To_Date</th></tr></thead><tbody><tr><td>290c77bc529b7ac935b93aa66c333dc3</td><td>9790</td><td>sao paulo</td><td>SP</td><td>Y</td><td>2024-03-21</td><td>9999-12-31</td></tr><tr><td>290c77bc529b7ac935b93aa66c333dc3</td><td>9790</td><td>sao bernardo do campo</td><td>SP</td><td>N</td><td>2024-03-21</td><td>2024-03-21</td></tr><tr><td>861eff4711a542e4b93843c6dd7febb0</td><td>14409</td><td>franca</td><td>SP</td><td>N</td><td>2024-03-21</td><td>2024-03-21</td></tr><tr><td>861eff4711a542e4b93843c6dd7febb0</td><td>15000</td><td>franca</td><td>SP</td><td>Y</td><td>2024-03-21</td><td>9999-12-31</td></tr><tr><td>9999999999999999999999999990</td><td>81560</td><td>timoteo</td><td>MG</td><td>Y</td><td>2024-03-21</td><td>9999-12-31</td></tr></tbody></table></div>"
      ]
     },
     "metadata": {
      "application/vnd.databricks.v1+output": {
       "addedWidgets": {},
       "aggData": [],
       "aggError": "",
       "aggOverflow": false,
       "aggSchema": [],
       "aggSeriesLimitReached": false,
       "aggType": "",
       "arguments": {},
       "columnCustomDisplayInfos": {},
       "data": [
        [
         "290c77bc529b7ac935b93aa66c333dc3",
         "9790",
         "sao paulo",
         "SP",
         "Y",
         "2024-03-21",
         "9999-12-31"
        ],
        [
         "290c77bc529b7ac935b93aa66c333dc3",
         "9790",
         "sao bernardo do campo",
         "SP",
         "N",
         "2024-03-21",
         "2024-03-21"
        ],
        [
         "861eff4711a542e4b93843c6dd7febb0",
         "14409",
         "franca",
         "SP",
         "N",
         "2024-03-21",
         "2024-03-21"
        ],
        [
         "861eff4711a542e4b93843c6dd7febb0",
         "15000",
         "franca",
         "SP",
         "Y",
         "2024-03-21",
         "9999-12-31"
        ],
        [
         "9999999999999999999999999990",
         "81560",
         "timoteo",
         "MG",
         "Y",
         "2024-03-21",
         "9999-12-31"
        ]
       ],
       "datasetInfos": [],
       "dbfsResultPath": null,
       "isJsonSchema": true,
       "metadata": {
        "dataframeName": "_sqldf",
        "executionCount": 57
       },
       "overflow": false,
       "plotOptions": {
        "customPlotOptions": {},
        "displayType": "table",
        "pivotAggregation": null,
        "pivotColumns": null,
        "xColumns": null,
        "yColumns": null
       },
       "removedWidgets": [],
       "schema": [
        {
         "metadata": "{}",
         "name": "customer_id",
         "type": "\"string\""
        },
        {
         "metadata": "{}",
         "name": "customer_zip_code_prefix",
         "type": "\"string\""
        },
        {
         "metadata": "{}",
         "name": "customer_city",
         "type": "\"string\""
        },
        {
         "metadata": "{}",
         "name": "customer_state",
         "type": "\"string\""
        },
        {
         "metadata": "{}",
         "name": "Active_Flag",
         "type": "\"string\""
        },
        {
         "metadata": "{}",
         "name": "From_Date",
         "type": "\"date\""
        },
        {
         "metadata": "{}",
         "name": "To_Date",
         "type": "\"date\""
        }
       ],
       "type": "table"
      }
     },
     "output_type": "display_data"
    }
   ],
   "source": [
    "%sql\n",
    "select * from customer_master.customers_hist \n",
    " where customer_id in('861eff4711a542e4b93843c6dd7febb0','290c77bc529b7ac935b93aa66c333dc3','9999999999999999999999999990')\n",
    "order by customer_id\n"
   ]
  },
  {
   "cell_type": "code",
   "execution_count": 0,
   "metadata": {
    "application/vnd.databricks.v1+cell": {
     "cellMetadata": {
      "byteLimit": 2048000,
      "rowLimit": 10000
     },
     "inputWidgets": {},
     "nuid": "e7cba350-3210-4848-ac0b-bdd845d7d6e2",
     "showTitle": false,
     "title": ""
    }
   },
   "outputs": [],
   "source": [
    "from delta.tables import *\n",
    "cust_tbl_inst = DeltaTable.forPath(spark, 'dbfs:/user/hive/warehouse/customer_master.db/customers_hist')\n",
    "\n",
    "#(cust_tbl_inst.toDF()).display()\n"
   ]
  },
  {
   "cell_type": "code",
   "execution_count": 0,
   "metadata": {
    "application/vnd.databricks.v1+cell": {
     "cellMetadata": {
      "byteLimit": 2048000,
      "rowLimit": 10000
     },
     "inputWidgets": {},
     "nuid": "2bce72f6-84b1-4409-947d-b381fac50607",
     "showTitle": false,
     "title": ""
    }
   },
   "outputs": [],
   "source": [
    "\n",
    "\n",
    "#scd2 with MERGE\n",
    "\n",
    "update_ds=customer_hist.join(customer_d1,(customer_hist.customer_id==customer_d1.customer_id) & (customer_hist.Active_Flag=='Y'),\"inner\")\\\n",
    "    .filter(xxhash64(customer_hist.customer_zip_code_prefix,customer_hist.customer_city,customer_hist.customer_state ) !=\n",
    "            xxhash64(customer_d1.customer_zip_code_prefix,customer_d1.customer_city,customer_d1.customer_state  ) )\\\n",
    "                .select(customer_d1.customer_id.alias(\"merge_key\"),customer_d1['*'])\n",
    "\n",
    "\n",
    "\n"
   ]
  },
  {
   "cell_type": "code",
   "execution_count": 0,
   "metadata": {
    "application/vnd.databricks.v1+cell": {
     "cellMetadata": {
      "byteLimit": 2048000,
      "rowLimit": 10000
     },
     "inputWidgets": {},
     "nuid": "a71245a9-c8df-4ce9-8f07-ba024fc6ab51",
     "showTitle": false,
     "title": ""
    }
   },
   "outputs": [],
   "source": [
    "\n",
    "insert_ds=customer_d1.join(customer_hist,(customer_d1.customer_id==customer_hist.customer_id) & (customer_hist.Active_Flag=='Y'),\"left_outer\")\\\n",
    "    .filter(xxhash64(customer_hist.customer_zip_code_prefix,customer_hist.customer_city,customer_hist.customer_state ) !=\n",
    "            xxhash64(customer_d1.customer_zip_code_prefix,customer_d1.customer_city,customer_d1.customer_state  ))\\\n",
    "    .select(lit(None).alias(\"merge_key\"),customer_d1['*']) \n"
   ]
  },
  {
   "cell_type": "code",
   "execution_count": 0,
   "metadata": {
    "application/vnd.databricks.v1+cell": {
     "cellMetadata": {
      "byteLimit": 2048000,
      "rowLimit": 10000
     },
     "inputWidgets": {},
     "nuid": "cc6dff37-1b7c-4e21-864d-1462c7a4d8a2",
     "showTitle": false,
     "title": ""
    }
   },
   "outputs": [
    {
     "output_type": "display_data",
     "data": {
      "text/html": [
       "<style scoped>\n",
       "  .table-result-container {\n",
       "    max-height: 300px;\n",
       "    overflow: auto;\n",
       "  }\n",
       "  table, th, td {\n",
       "    border: 1px solid black;\n",
       "    border-collapse: collapse;\n",
       "  }\n",
       "  th, td {\n",
       "    padding: 5px;\n",
       "  }\n",
       "  th {\n",
       "    text-align: left;\n",
       "  }\n",
       "</style><div class='table-result-container'><table class='table-result'><thead style='background-color: white'><tr><th>merge_key</th><th>customer_id</th><th>customer_zip_code_prefix</th><th>customer_city</th><th>customer_state</th><th>Active_Flag</th><th>From_Date</th><th>To_Date</th></tr></thead><tbody><tr><td>290c77bc529b7ac935b93aa66c333dc3</td><td>290c77bc529b7ac935b93aa66c333dc3</td><td>9790</td><td>sao paulo</td><td>SP</td><td>Y</td><td>2024-03-23</td><td>9999-12-31</td></tr><tr><td>861eff4711a542e4b93843c6dd7febb0</td><td>861eff4711a542e4b93843c6dd7febb0</td><td>15000</td><td>franca</td><td>SP</td><td>Y</td><td>2024-03-23</td><td>9999-12-31</td></tr><tr><td>9999999999999999999999999990</td><td>9999999999999999999999999990</td><td>81560</td><td>timoteo</td><td>MG</td><td>Y</td><td>2024-03-23</td><td>9999-12-31</td></tr><tr><td>null</td><td>861eff4711a542e4b93843c6dd7febb0</td><td>15000</td><td>franca</td><td>SP</td><td>Y</td><td>2024-03-23</td><td>9999-12-31</td></tr><tr><td>null</td><td>9999999999999999999999999990</td><td>81560</td><td>timoteo</td><td>MG</td><td>Y</td><td>2024-03-23</td><td>9999-12-31</td></tr><tr><td>null</td><td>290c77bc529b7ac935b93aa66c333dc3</td><td>9790</td><td>sao paulo</td><td>SP</td><td>Y</td><td>2024-03-23</td><td>9999-12-31</td></tr></tbody></table></div>"
      ]
     },
     "metadata": {
      "application/vnd.databricks.v1+output": {
       "addedWidgets": {},
       "aggData": [],
       "aggError": "",
       "aggOverflow": false,
       "aggSchema": [],
       "aggSeriesLimitReached": false,
       "aggType": "",
       "arguments": {},
       "columnCustomDisplayInfos": {},
       "data": [
        [
         "290c77bc529b7ac935b93aa66c333dc3",
         "290c77bc529b7ac935b93aa66c333dc3",
         "9790",
         "sao paulo",
         "SP",
         "Y",
         "2024-03-23",
         "9999-12-31"
        ],
        [
         "861eff4711a542e4b93843c6dd7febb0",
         "861eff4711a542e4b93843c6dd7febb0",
         "15000",
         "franca",
         "SP",
         "Y",
         "2024-03-23",
         "9999-12-31"
        ],
        [
         "9999999999999999999999999990",
         "9999999999999999999999999990",
         "81560",
         "timoteo",
         "MG",
         "Y",
         "2024-03-23",
         "9999-12-31"
        ],
        [
         null,
         "861eff4711a542e4b93843c6dd7febb0",
         "15000",
         "franca",
         "SP",
         "Y",
         "2024-03-23",
         "9999-12-31"
        ],
        [
         null,
         "9999999999999999999999999990",
         "81560",
         "timoteo",
         "MG",
         "Y",
         "2024-03-23",
         "9999-12-31"
        ],
        [
         null,
         "290c77bc529b7ac935b93aa66c333dc3",
         "9790",
         "sao paulo",
         "SP",
         "Y",
         "2024-03-23",
         "9999-12-31"
        ]
       ],
       "datasetInfos": [],
       "dbfsResultPath": null,
       "isJsonSchema": true,
       "metadata": {},
       "overflow": false,
       "plotOptions": {
        "customPlotOptions": {},
        "displayType": "table",
        "pivotAggregation": null,
        "pivotColumns": null,
        "xColumns": null,
        "yColumns": null
       },
       "removedWidgets": [],
       "schema": [
        {
         "metadata": "{}",
         "name": "merge_key",
         "type": "\"string\""
        },
        {
         "metadata": "{}",
         "name": "customer_id",
         "type": "\"string\""
        },
        {
         "metadata": "{}",
         "name": "customer_zip_code_prefix",
         "type": "\"string\""
        },
        {
         "metadata": "{}",
         "name": "customer_city",
         "type": "\"string\""
        },
        {
         "metadata": "{}",
         "name": "customer_state",
         "type": "\"string\""
        },
        {
         "metadata": "{}",
         "name": "Active_Flag",
         "type": "\"string\""
        },
        {
         "metadata": "{}",
         "name": "From_Date",
         "type": "\"date\""
        },
        {
         "metadata": "{}",
         "name": "To_Date",
         "type": "\"date\""
        }
       ],
       "type": "table"
      }
     },
     "output_type": "display_data"
    }
   ],
   "source": [
    "\n",
    "consolidate=update_ds.unionByName(insert_ds)\n",
    "\n",
    "\n",
    "display(consolidate)"
   ]
  },
  {
   "cell_type": "code",
   "execution_count": 0,
   "metadata": {
    "application/vnd.databricks.v1+cell": {
     "cellMetadata": {
      "byteLimit": 2048000,
      "rowLimit": 10000
     },
     "inputWidgets": {},
     "nuid": "e91002ae-16ce-4c4d-849e-fe0346d2e73a",
     "showTitle": false,
     "title": ""
    }
   },
   "outputs": [],
   "source": [
    "\n",
    "cust_tbl_inst.alias(\"trg\").merge(consolidate.alias(\"src\"),condition=\"trg.customer_id=src.merge_key and trg.Active_Flag='Y'\"\n",
    "\n",
    "                       ).whenMatchedUpdate(set ={\"Active_Flag\":\"'N'\",\"To_Date\":\"to_date(now())\"}\n",
    "\n",
    "                                           ).whenNotMatchedInsert(values={\n",
    "\n",
    "\"customer_id\": \"customer_id\",\n",
    "\"customer_zip_code_prefix\": \"customer_zip_code_prefix\",\n",
    "\"customer_city\": \"customer_city\",\n",
    "\"customer_state\": \"customer_state\",\n",
    "\"Active_Flag\": \"'Y'\",\n",
    "\"From_Date\": \"to_date(now())\",\n",
    "\"To_Date\": \"'9999-12-31'\"}).execute()"
   ]
  },
  {
   "cell_type": "code",
   "execution_count": 0,
   "metadata": {
    "application/vnd.databricks.v1+cell": {
     "cellMetadata": {
      "byteLimit": 2048000,
      "implicitDf": true,
      "rowLimit": 10000
     },
     "inputWidgets": {},
     "nuid": "c61941c0-3d46-4b91-a82a-2a40af728c6e",
     "showTitle": false,
     "title": ""
    }
   },
   "outputs": [
    {
     "output_type": "display_data",
     "data": {
      "text/html": [
       "<style scoped>\n",
       "  .table-result-container {\n",
       "    max-height: 300px;\n",
       "    overflow: auto;\n",
       "  }\n",
       "  table, th, td {\n",
       "    border: 1px solid black;\n",
       "    border-collapse: collapse;\n",
       "  }\n",
       "  th, td {\n",
       "    padding: 5px;\n",
       "  }\n",
       "  th {\n",
       "    text-align: left;\n",
       "  }\n",
       "</style><div class='table-result-container'><table class='table-result'><thead style='background-color: white'><tr><th>id</th><th>customer_id</th><th>customer_city</th><th>customer_state</th><th>customer_zip_code_prefix</th><th>Active_Flag</th><th>From_Date</th><th>To_Date</th></tr></thead><tbody><tr><td>2</td><td>290c77bc529b7ac935b93aa66c333dc3</td><td>sao bernardo do campo</td><td>SP</td><td>9790</td><td>N</td><td>2024-03-22</td><td>2024-03-22</td></tr><tr><td>null</td><td>290c77bc529b7ac935b93aa66c333dc3</td><td>sao paulo</td><td>SP</td><td>9790</td><td>Y</td><td>2024-03-22</td><td>9999-12-31</td></tr><tr><td>null</td><td>861eff4711a542e4b93843c6dd7febb0</td><td>franca</td><td>SP</td><td>15000</td><td>Y</td><td>2024-03-22</td><td>9999-12-31</td></tr><tr><td>1</td><td>861eff4711a542e4b93843c6dd7febb0</td><td>franca</td><td>SP</td><td>14409</td><td>N</td><td>2024-03-22</td><td>2024-03-22</td></tr><tr><td>null</td><td>9999999999999999999999999990</td><td>timoteo</td><td>MG</td><td>81560</td><td>Y</td><td>2024-03-22</td><td>9999-12-31</td></tr></tbody></table></div>"
      ]
     },
     "metadata": {
      "application/vnd.databricks.v1+output": {
       "addedWidgets": {},
       "aggData": [],
       "aggError": "",
       "aggOverflow": false,
       "aggSchema": [],
       "aggSeriesLimitReached": false,
       "aggType": "",
       "arguments": {},
       "columnCustomDisplayInfos": {},
       "data": [
        [
         2,
         "290c77bc529b7ac935b93aa66c333dc3",
         "sao bernardo do campo",
         "SP",
         "9790",
         "N",
         "2024-03-22",
         "2024-03-22"
        ],
        [
         null,
         "290c77bc529b7ac935b93aa66c333dc3",
         "sao paulo",
         "SP",
         "9790",
         "Y",
         "2024-03-22",
         "9999-12-31"
        ],
        [
         null,
         "861eff4711a542e4b93843c6dd7febb0",
         "franca",
         "SP",
         "15000",
         "Y",
         "2024-03-22",
         "9999-12-31"
        ],
        [
         1,
         "861eff4711a542e4b93843c6dd7febb0",
         "franca",
         "SP",
         "14409",
         "N",
         "2024-03-22",
         "2024-03-22"
        ],
        [
         null,
         "9999999999999999999999999990",
         "timoteo",
         "MG",
         "81560",
         "Y",
         "2024-03-22",
         "9999-12-31"
        ]
       ],
       "datasetInfos": [],
       "dbfsResultPath": null,
       "isJsonSchema": true,
       "metadata": {
        "dataframeName": "_sqldf",
        "executionCount": 20
       },
       "overflow": false,
       "plotOptions": {
        "customPlotOptions": {},
        "displayType": "table",
        "pivotAggregation": null,
        "pivotColumns": null,
        "xColumns": null,
        "yColumns": null
       },
       "removedWidgets": [],
       "schema": [
        {
         "metadata": "{}",
         "name": "id",
         "type": "\"long\""
        },
        {
         "metadata": "{}",
         "name": "customer_id",
         "type": "\"string\""
        },
        {
         "metadata": "{}",
         "name": "customer_city",
         "type": "\"string\""
        },
        {
         "metadata": "{}",
         "name": "customer_state",
         "type": "\"string\""
        },
        {
         "metadata": "{}",
         "name": "customer_zip_code_prefix",
         "type": "\"string\""
        },
        {
         "metadata": "{}",
         "name": "Active_Flag",
         "type": "\"string\""
        },
        {
         "metadata": "{}",
         "name": "From_Date",
         "type": "\"date\""
        },
        {
         "metadata": "{}",
         "name": "To_Date",
         "type": "\"date\""
        }
       ],
       "type": "table"
      }
     },
     "output_type": "display_data"
    }
   ],
   "source": [
    "%sql\n",
    "select * from customer_master.customers_hist where customer_id in('861eff4711a542e4b93843c6dd7febb0','290c77bc529b7ac935b93aa66c333dc3','9999999999999999999999999990') \n",
    "order by customer_id\n"
   ]
  }
 ],
 "metadata": {
  "application/vnd.databricks.v1+notebook": {
   "dashboards": [],
   "language": "python",
   "notebookMetadata": {
    "mostRecentlyExecutedCommandWithImplicitDF": {
     "commandId": 3638058136529021,
     "dataframes": [
      "_sqldf"
     ]
    },
    "pythonIndentUnit": 4
   },
   "notebookName": "SCD TYPE 2",
   "widgets": {}
  }
 },
 "nbformat": 4,
 "nbformat_minor": 0
}
